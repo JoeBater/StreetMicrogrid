{
 "cells": [
  {
   "cell_type": "markdown",
   "metadata": {},
   "source": [
    "# Energy Efficiency"
   ]
  },
  {
   "cell_type": "markdown",
   "metadata": {},
   "source": [
    "We perform energy analysis using 12 different building shapes simulated in Ecotect. The buildings differ with respect to the glazing area, the glazing area distribution, and the orientation, amongst other parameters. We simulate various settings as functions of the afore-mentioned characteristics to obtain 768 building shapes. The dataset comprises 768 samples and 8 features, aiming to predict two real valued responses. It can also be used as a multi-class classification problem if the response is rounded to the nearest integer."
   ]
  },
  {
   "cell_type": "markdown",
   "metadata": {},
   "source": [
    "The dataset contains eight attributes (or features, denoted by X1...X8) and two responses (or outcomes, denoted by y1 and y2). The aim is to use the eight features to predict each of the two responses.\n",
    "\n",
    "Specifically:\n",
    "\n",
    "- X1 Relative Compactness\n",
    "- X2 Surface Area\n",
    "- X3 Wall Area\n",
    "- X4 Roof Area\n",
    "- X5 Overall Height\n",
    "- X6 Orientation\n",
    "- X7 Glazing Area\n",
    "- X8 Glazing Area Distribution\n",
    "- y1 Heating Load\n",
    "- y2 Cooling Load"
   ]
  },
  {
   "cell_type": "code",
   "execution_count": 1,
   "metadata": {},
   "outputs": [],
   "source": [
    "import pandas as pd\n",
    "import numpy as np\n",
    "import matplotlib.pyplot as plt\n",
    "import seaborn as sns\n",
    "\n",
    "from sklearn.metrics import mean_squared_error"
   ]
  },
  {
   "cell_type": "code",
   "execution_count": 2,
   "metadata": {},
   "outputs": [
    {
     "data": {
      "text/html": [
       "<div>\n",
       "<style scoped>\n",
       "    .dataframe tbody tr th:only-of-type {\n",
       "        vertical-align: middle;\n",
       "    }\n",
       "\n",
       "    .dataframe tbody tr th {\n",
       "        vertical-align: top;\n",
       "    }\n",
       "\n",
       "    .dataframe thead th {\n",
       "        text-align: right;\n",
       "    }\n",
       "</style>\n",
       "<table border=\"1\" class=\"dataframe\">\n",
       "  <thead>\n",
       "    <tr style=\"text-align: right;\">\n",
       "      <th></th>\n",
       "      <th>X1</th>\n",
       "      <th>X2</th>\n",
       "      <th>X3</th>\n",
       "      <th>X4</th>\n",
       "      <th>X5</th>\n",
       "      <th>X6</th>\n",
       "      <th>X7</th>\n",
       "      <th>X8</th>\n",
       "      <th>Y1</th>\n",
       "      <th>Y2</th>\n",
       "    </tr>\n",
       "  </thead>\n",
       "  <tbody>\n",
       "    <tr>\n",
       "      <td>0</td>\n",
       "      <td>0.98</td>\n",
       "      <td>514.5</td>\n",
       "      <td>294.0</td>\n",
       "      <td>110.25</td>\n",
       "      <td>7.0</td>\n",
       "      <td>2</td>\n",
       "      <td>0.0</td>\n",
       "      <td>0</td>\n",
       "      <td>15.55</td>\n",
       "      <td>21.33</td>\n",
       "    </tr>\n",
       "    <tr>\n",
       "      <td>1</td>\n",
       "      <td>0.98</td>\n",
       "      <td>514.5</td>\n",
       "      <td>294.0</td>\n",
       "      <td>110.25</td>\n",
       "      <td>7.0</td>\n",
       "      <td>3</td>\n",
       "      <td>0.0</td>\n",
       "      <td>0</td>\n",
       "      <td>15.55</td>\n",
       "      <td>21.33</td>\n",
       "    </tr>\n",
       "    <tr>\n",
       "      <td>2</td>\n",
       "      <td>0.98</td>\n",
       "      <td>514.5</td>\n",
       "      <td>294.0</td>\n",
       "      <td>110.25</td>\n",
       "      <td>7.0</td>\n",
       "      <td>4</td>\n",
       "      <td>0.0</td>\n",
       "      <td>0</td>\n",
       "      <td>15.55</td>\n",
       "      <td>21.33</td>\n",
       "    </tr>\n",
       "    <tr>\n",
       "      <td>3</td>\n",
       "      <td>0.98</td>\n",
       "      <td>514.5</td>\n",
       "      <td>294.0</td>\n",
       "      <td>110.25</td>\n",
       "      <td>7.0</td>\n",
       "      <td>5</td>\n",
       "      <td>0.0</td>\n",
       "      <td>0</td>\n",
       "      <td>15.55</td>\n",
       "      <td>21.33</td>\n",
       "    </tr>\n",
       "    <tr>\n",
       "      <td>4</td>\n",
       "      <td>0.90</td>\n",
       "      <td>563.5</td>\n",
       "      <td>318.5</td>\n",
       "      <td>122.50</td>\n",
       "      <td>7.0</td>\n",
       "      <td>2</td>\n",
       "      <td>0.0</td>\n",
       "      <td>0</td>\n",
       "      <td>20.84</td>\n",
       "      <td>28.28</td>\n",
       "    </tr>\n",
       "    <tr>\n",
       "      <td>5</td>\n",
       "      <td>0.90</td>\n",
       "      <td>563.5</td>\n",
       "      <td>318.5</td>\n",
       "      <td>122.50</td>\n",
       "      <td>7.0</td>\n",
       "      <td>3</td>\n",
       "      <td>0.0</td>\n",
       "      <td>0</td>\n",
       "      <td>21.46</td>\n",
       "      <td>25.38</td>\n",
       "    </tr>\n",
       "    <tr>\n",
       "      <td>6</td>\n",
       "      <td>0.90</td>\n",
       "      <td>563.5</td>\n",
       "      <td>318.5</td>\n",
       "      <td>122.50</td>\n",
       "      <td>7.0</td>\n",
       "      <td>4</td>\n",
       "      <td>0.0</td>\n",
       "      <td>0</td>\n",
       "      <td>20.71</td>\n",
       "      <td>25.16</td>\n",
       "    </tr>\n",
       "    <tr>\n",
       "      <td>7</td>\n",
       "      <td>0.90</td>\n",
       "      <td>563.5</td>\n",
       "      <td>318.5</td>\n",
       "      <td>122.50</td>\n",
       "      <td>7.0</td>\n",
       "      <td>5</td>\n",
       "      <td>0.0</td>\n",
       "      <td>0</td>\n",
       "      <td>19.68</td>\n",
       "      <td>29.60</td>\n",
       "    </tr>\n",
       "    <tr>\n",
       "      <td>8</td>\n",
       "      <td>0.86</td>\n",
       "      <td>588.0</td>\n",
       "      <td>294.0</td>\n",
       "      <td>147.00</td>\n",
       "      <td>7.0</td>\n",
       "      <td>2</td>\n",
       "      <td>0.0</td>\n",
       "      <td>0</td>\n",
       "      <td>19.50</td>\n",
       "      <td>27.30</td>\n",
       "    </tr>\n",
       "    <tr>\n",
       "      <td>9</td>\n",
       "      <td>0.86</td>\n",
       "      <td>588.0</td>\n",
       "      <td>294.0</td>\n",
       "      <td>147.00</td>\n",
       "      <td>7.0</td>\n",
       "      <td>3</td>\n",
       "      <td>0.0</td>\n",
       "      <td>0</td>\n",
       "      <td>19.95</td>\n",
       "      <td>21.97</td>\n",
       "    </tr>\n",
       "    <tr>\n",
       "      <td>10</td>\n",
       "      <td>0.86</td>\n",
       "      <td>588.0</td>\n",
       "      <td>294.0</td>\n",
       "      <td>147.00</td>\n",
       "      <td>7.0</td>\n",
       "      <td>4</td>\n",
       "      <td>0.0</td>\n",
       "      <td>0</td>\n",
       "      <td>19.34</td>\n",
       "      <td>23.49</td>\n",
       "    </tr>\n",
       "    <tr>\n",
       "      <td>11</td>\n",
       "      <td>0.86</td>\n",
       "      <td>588.0</td>\n",
       "      <td>294.0</td>\n",
       "      <td>147.00</td>\n",
       "      <td>7.0</td>\n",
       "      <td>5</td>\n",
       "      <td>0.0</td>\n",
       "      <td>0</td>\n",
       "      <td>18.31</td>\n",
       "      <td>27.87</td>\n",
       "    </tr>\n",
       "  </tbody>\n",
       "</table>\n",
       "</div>"
      ],
      "text/plain": [
       "      X1     X2     X3      X4   X5  X6   X7  X8     Y1     Y2\n",
       "0   0.98  514.5  294.0  110.25  7.0   2  0.0   0  15.55  21.33\n",
       "1   0.98  514.5  294.0  110.25  7.0   3  0.0   0  15.55  21.33\n",
       "2   0.98  514.5  294.0  110.25  7.0   4  0.0   0  15.55  21.33\n",
       "3   0.98  514.5  294.0  110.25  7.0   5  0.0   0  15.55  21.33\n",
       "4   0.90  563.5  318.5  122.50  7.0   2  0.0   0  20.84  28.28\n",
       "5   0.90  563.5  318.5  122.50  7.0   3  0.0   0  21.46  25.38\n",
       "6   0.90  563.5  318.5  122.50  7.0   4  0.0   0  20.71  25.16\n",
       "7   0.90  563.5  318.5  122.50  7.0   5  0.0   0  19.68  29.60\n",
       "8   0.86  588.0  294.0  147.00  7.0   2  0.0   0  19.50  27.30\n",
       "9   0.86  588.0  294.0  147.00  7.0   3  0.0   0  19.95  21.97\n",
       "10  0.86  588.0  294.0  147.00  7.0   4  0.0   0  19.34  23.49\n",
       "11  0.86  588.0  294.0  147.00  7.0   5  0.0   0  18.31  27.87"
      ]
     },
     "execution_count": 2,
     "metadata": {},
     "output_type": "execute_result"
    }
   ],
   "source": [
    "url = 'https://archive.ics.uci.edu/ml/machine-learning-databases/00242/ENB2012_data.xlsx'\n",
    "energy = pd.read_excel(url)\n",
    "energy.head(12)"
   ]
  },
  {
   "cell_type": "code",
   "execution_count": 3,
   "metadata": {},
   "outputs": [
    {
     "data": {
      "text/plain": [
       "(768, 10)"
      ]
     },
     "execution_count": 3,
     "metadata": {},
     "output_type": "execute_result"
    }
   ],
   "source": [
    "energy.shape"
   ]
  },
  {
   "cell_type": "code",
   "execution_count": 4,
   "metadata": {},
   "outputs": [],
   "source": [
    "cols = ['X1 Relative Compactness', 'X2 Surface Area', 'X3 Wall Area', 'X4 Roof Area', 'X5 Overall Height', \n",
    "        'X6 Orientation', 'X7 Glazing Area', 'X8 Glazing Area Distribution', 'y1 Heating Load', 'y2 Cooling Load']\n",
    "energy.columns = cols"
   ]
  },
  {
   "cell_type": "code",
   "execution_count": 5,
   "metadata": {},
   "outputs": [
    {
     "data": {
      "text/plain": [
       "X1 Relative Compactness         0\n",
       "X2 Surface Area                 0\n",
       "X3 Wall Area                    0\n",
       "X4 Roof Area                    0\n",
       "X5 Overall Height               0\n",
       "X6 Orientation                  0\n",
       "X7 Glazing Area                 0\n",
       "X8 Glazing Area Distribution    0\n",
       "y1 Heating Load                 0\n",
       "y2 Cooling Load                 0\n",
       "dtype: int64"
      ]
     },
     "execution_count": 5,
     "metadata": {},
     "output_type": "execute_result"
    }
   ],
   "source": [
    "# quick check - any missing values?\n",
    "energy.isna().sum()"
   ]
  },
  {
   "cell_type": "code",
   "execution_count": 6,
   "metadata": {},
   "outputs": [
    {
     "data": {
      "text/plain": [
       "array([2, 3, 4, 5], dtype=int64)"
      ]
     },
     "execution_count": 6,
     "metadata": {},
     "output_type": "execute_result"
    }
   ],
   "source": [
    "energy['X6 Orientation'].unique()"
   ]
  },
  {
   "cell_type": "code",
   "execution_count": 7,
   "metadata": {},
   "outputs": [
    {
     "data": {
      "image/png": "[encoded data removed]",
      "text/plain": [
       "<Figure size 1152x576 with 1 Axes>"
      ]
     },
     "metadata": {
      "needs_background": "light"
     },
     "output_type": "display_data"
    }
   ],
   "source": [
    "# show distribution of output values\n",
    "plt.figure(figsize=(16,8))\n",
    "energy['y1 Heating Load'].plot.hist(bins=50, alpha=0.5)\n",
    "energy['y2 Cooling Load'].plot.hist(bins=50, alpha=0.5)\n",
    "plt.xlabel('Heating / Cooling load histogram')\n",
    "plt.legend()\n",
    "plt.show()"
   ]
  },
  {
   "cell_type": "code",
   "execution_count": 8,
   "metadata": {},
   "outputs": [],
   "source": [
    "from sklearn.svm import SVR\n",
    "from sklearn.pipeline import make_pipeline\n",
    "from sklearn.preprocessing import StandardScaler\n",
    "from sklearn.model_selection import train_test_split"
   ]
  },
  {
   "cell_type": "code",
   "execution_count": 9,
   "metadata": {},
   "outputs": [],
   "source": [
    "X = energy[['X1 Relative Compactness', 'X2 Surface Area', 'X3 Wall Area', 'X4 Roof Area', 'X5 Overall Height', \n",
    "        'X6 Orientation', 'X7 Glazing Area', 'X8 Glazing Area Distribution']]\n",
    "y = energy[['y1 Heating Load', 'y2 Cooling Load']]"
   ]
  },
  {
   "cell_type": "code",
   "execution_count": 10,
   "metadata": {},
   "outputs": [],
   "source": [
    "scaler = StandardScaler()\n",
    "X = scaler.fit_transform(X)"
   ]
  },
  {
   "cell_type": "code",
   "execution_count": 11,
   "metadata": {},
   "outputs": [
    {
     "name": "stdout",
     "output_type": "stream",
     "text": [
      "(691, 8) (691, 2) (77, 8) (77, 2)\n"
     ]
    }
   ],
   "source": [
    "X_train, X_test, y_train, y_test = train_test_split(X, y, test_size=0.1)\n",
    "print(X_train.shape, y_train.shape, X_test.shape, y_test.shape)"
   ]
  },
  {
   "cell_type": "code",
   "execution_count": 12,
   "metadata": {},
   "outputs": [
    {
     "data": {
      "text/plain": [
       "array([32.41 , 27.03 , 32.46 , 12.85 , 16.47 , 28.01 ,  6.37 , 41.4  ,\n",
       "       11.22 , 35.48 , 12.35 , 39.04 , 12.65 , 24.11 , 40.57 ,  8.6  ,\n",
       "       15.12 , 33.21 , 24.29 , 29.5  , 40.43 , 32.24 , 12.29 , 32.   ,\n",
       "       11.11 , 36.81 , 10.55 , 17.88 , 29.07 , 14.33 , 28.55 ,  6.05 ,\n",
       "       12.74 , 17.11 , 14.52 , 32.06 , 14.61 , 28.64 , 32.29 , 42.08 ,\n",
       "       14.92 , 12.16 , 10.35 , 12.32 , 40.12 , 28.62 , 10.7  ,  6.81 ,\n",
       "       32.33 , 16.55 , 32.31 , 31.28 , 28.67 , 11.44 , 27.9  , 28.83 ,\n",
       "       23.75 , 32.67 ,  8.49 , 11.67 , 14.54 , 13.86 , 14.53 , 24.6  ,\n",
       "       14.71 , 39.32 , 23.86 , 11.69 , 10.67 , 16.35 , 14.47 , 32.46 ,\n",
       "       32.75 , 28.18 , 41.96 , 16.77 , 28.95 , 10.54 , 17.5  , 37.12 ,\n",
       "       42.74 , 33.28 , 16.76 , 25.66 , 19.68 , 40.71 , 10.42 , 14.7  ,\n",
       "       15.09 , 32.84 , 29.02 , 23.59 , 14.51 , 29.83 , 29.39 ,  7.18 ,\n",
       "       40.79 , 35.96 , 10.37 , 16.84 , 35.56 , 28.64 , 32.84 , 24.35 ,\n",
       "       11.1  , 39.97 , 37.26 , 14.03 , 25.7  , 32.74 , 32.21 , 10.38 ,\n",
       "       39.72 , 23.93 , 12.17 , 25.36 , 12.3  , 32.21 , 10.53 , 10.68 ,\n",
       "       25.27 , 14.48 , 15.55 , 11.7  , 28.15 , 40.4  , 16.44 , 27.03 ,\n",
       "       14.66 , 29.34 , 12.2  ,  6.4  , 12.28 , 15.29 , 37.24 , 29.08 ,\n",
       "       32.68 , 26.91 , 12.36 , 16.69 , 27.27 , 24.28 , 14.66 , 36.57 ,\n",
       "       28.15 , 19.48 ,  6.77 , 32.75 , 18.31 , 22.58 , 28.67 , 30.   ,\n",
       "       15.09 , 11.14 , 15.36 , 35.99 , 11.33 , 14.6  , 36.26 , 36.77 ,\n",
       "       14.34 , 10.7  , 18.84 , 35.64 , 12.27 , 33.09 , 19.13 , 24.77 ,\n",
       "       15.4  , 37.03 , 38.57 , 15.16 , 11.43 , 23.54 , 14.55 , 25.37 ,\n",
       "       10.75 , 25.41 , 26.97 , 24.77 , 16.48 , 29.03 , 12.59 , 11.59 ,\n",
       "       29.27 , 16.54 , 28.57 , 39.81 , 12.02 , 14.42 , 15.29 , 17.26 ,\n",
       "       41.73 , 13.18 , 14.1  , 24.33 , 29.47 , 14.75 , 10.32 , 32.72 ,\n",
       "       14.7  , 40.68 , 18.16 , 28.66 , 15.19 , 15.37 , 12.93 , 12.86 ,\n",
       "       14.33 , 12.43 , 14.65 ,  6.366, 30.05 , 10.34 , 36.52 , 38.98 ,\n",
       "       10.39 , 13.99 , 28.05 , 14.08 , 23.67 , 11.14 , 14.6  , 15.42 ,\n",
       "       11.32 , 14.12 , 12.5  , 25.37 , 29.06 , 17.14 , 10.71 , 19.95 ,\n",
       "       36.86 , 35.73 , 10.45 , 32.31 ,  7.1  , 13.17 , 13.04 , 40.78 ,\n",
       "       28.52 , 11.68 , 28.67 , 14.51 , 12.97 , 13.95 , 10.14 , 24.58 ,\n",
       "       12.85 , 10.72 , 10.34 , 14.44 , 28.4  , 24.23 , 14.39 , 26.33 ,\n",
       "       35.48 , 25.98 , 36.47 , 24.94 , 15.34 , 15.3  , 19.   , 40.19 ,\n",
       "       24.23 , 32.07 , 12.19 , 12.42 , 16.73 , 12.46 , 12.86 , 29.09 ,\n",
       "       29.87 , 16.86 , 11.34 , 12.63 , 15.23 , 39.86 , 16.99 , 36.45 ,\n",
       "       31.66 , 12.93 , 19.06 ,  8.45 , 19.42 , 14.96 , 41.64 , 17.15 ,\n",
       "       10.15 , 12.88 , 31.81 , 28.41 , 32.38 , 14.19 , 17.23 , 10.85 ,\n",
       "       15.36 , 11.61 , 12.73 , 41.26 , 28.65 , 36.97 , 24.96 , 40.15 ,\n",
       "       41.92 , 36.59 , 11.69 , 28.56 , 16.92 , 33.28 , 28.63 , 13.94 ,\n",
       "       14.22 , 39.89 , 41.3  , 26.47 , 34.72 , 34.95 , 10.68 , 12.03 ,\n",
       "       32.94 , 12.73 , 24.17 , 12.41 , 16.44 , 36.57 , 28.42 , 10.46 ,\n",
       "       36.71 , 39.83 , 11.6  , 36.7  , 14.71 , 32.74 , 12.72 , 12.8  ,\n",
       "       11.16 , 29.43 , 41.67 , 24.03 , 15.2  , 17.41 , 14.28 , 24.24 ,\n",
       "       32.12 , 38.33 , 26.84 , 36.95 , 15.09 , 35.89 , 32.68 , 17.52 ,\n",
       "        8.5  , 14.45 , 28.86 , 36.28 , 11.2  , 16.83 , 32.96 , 35.69 ,\n",
       "       19.52 , 16.66 , 39.68 , 29.62 , 36.91 , 14.07 , 25.17 , 28.4  ,\n",
       "       12.84 , 29.71 , 28.88 , 11.22 , 38.82 , 40.03 , 14.56 , 32.13 ,\n",
       "       11.42 , 13.04 , 12.49 , 42.11 , 19.2  , 32.26 , 16.56 , 16.62 ,\n",
       "       11.98 , 14.37 , 38.65 , 10.68 , 32.21 , 22.89 , 23.8  , 24.13 ,\n",
       "       15.36 ,  7.1  , 16.95 , 36.06 , 10.66 , 29.92 , 14.5  , 42.49 ,\n",
       "       15.16 , 36.66 , 10.77 , 15.23 , 12.76 , 14.4  , 12.47 , 26.46 ,\n",
       "       10.39 , 10.78 , 13.17 , 13.   , 29.05 , 40.78 , 23.53 , 12.45 ,\n",
       "       12.97 , 29.63 , 11.18 , 12.87 , 36.86 , 14.18 , 24.31 , 41.32 ,\n",
       "       17.14 , 11.11 , 18.46 , 33.08 , 34.29 , 24.37 , 32.05 , 12.63 ,\n",
       "       12.71 , 29.53 , 32.26 , 31.29 , 12.49 , 32.12 , 16.76 , 15.08 ,\n",
       "       36.97 , 26.89 , 36.64 , 12.96 , 11.38 , 25.49 , 17.37 , 11.69 ,\n",
       "       12.77 , 12.3  , 35.69 , 42.5  , 17.35 , 21.46 , 31.12 , 18.71 ,\n",
       "       18.9  , 12.97 , 22.93 , 24.26 , 12.1  , 15.55 , 42.62 , 11.8  ,\n",
       "       26.45 , 10.56 , 38.89 , 15.32 , 34.24 , 24.35 , 36.95 , 13.   ,\n",
       "       28.31 , 32.33 , 29.79 , 11.16 , 20.84 , 32.82 , 36.9  , 14.71 ,\n",
       "       12.74 , 15.18 , 14.5  , 32.53 , 12.57 , 10.39 , 40.11 , 15.41 ,\n",
       "       19.12 , 19.36 , 11.64 , 25.43 , 14.34 , 11.49 , 29.06 , 35.45 ,\n",
       "       36.45 , 10.72 , 24.63 , 32.73 , 17.17 , 13.69 , 17.14 , 15.98 ,\n",
       "       29.52 , 12.25 , 14.9  , 29.67 , 14.17 , 19.5  , 12.73 , 15.18 ,\n",
       "       13.18 , 12.45 , 29.87 , 12.57 , 32.82 , 12.12 , 24.25 , 12.12 ,\n",
       "       26.33 , 32.71 , 15.19 , 41.09 , 35.67 , 18.48 , 39.84 , 24.59 ,\n",
       "       16.94 , 28.69 , 18.48 , 32.4  , 29.54 , 29.68 , 33.48 , 31.64 ,\n",
       "       38.84 , 42.77 , 13.05 , 15.16 , 28.03 , 28.7  , 32.4  , 29.91 ,\n",
       "       29.9  , 35.01 , 10.36 , 36.96 , 26.44 , 42.96 , 33.24 , 12.12 ,\n",
       "       29.47 , 13.02 , 10.07 , 19.34 , 13.01 , 14.54 , 16.9  , 35.84 ,\n",
       "        6.79 , 18.88 , 13.91 , 13.97 , 24.4  , 32.52 , 22.8  , 11.13 ,\n",
       "       33.27 , 28.05 , 26.45 , 11.21 , 37.1  , 36.7  , 15.3  , 36.43 ,\n",
       "       36.03 , 40.   , 24.04 , 39.86 , 32.31 , 31.63 , 32.49 , 32.23 ,\n",
       "       32.46 , 14.33 , 35.4  , 29.08 , 36.13 , 29.22 , 28.91 , 32.31 ,\n",
       "       13.02 ,  6.07 , 14.61 , 25.74 , 16.93 , 18.19 , 26.28 , 11.45 ,\n",
       "       38.67 , 32.38 , 28.15 , 12.78 , 12.68 , 12.93 , 13.   , 25.36 ,\n",
       "       28.93 , 26.   , 28.07 , 39.01 , 12.62 , 15.09 , 24.32 , 15.23 ,\n",
       "       11.45 , 11.07 , 14.41 , 11.43 , 16.74 ,  6.04 , 15.12 , 23.87 ,\n",
       "       11.33 , 14.32 , 11.46 , 26.37 , 12.63 , 11.16 , 35.65 , 12.92 ,\n",
       "        6.01 , 27.02 , 22.79 ,  7.1  , 15.21 , 10.77 , 32.09 , 13.86 ,\n",
       "       12.95 , 16.86 , 12.95 , 14.62 , 13.99 , 14.66 , 39.97 , 33.27 ,\n",
       "       29.14 , 12.28 , 32.72 , 28.58 , 10.68 , 35.24 , 15.41 , 29.6  ,\n",
       "       23.84 , 11.09 , 39.31 , 32.39 , 14.42 , 39.04 , 10.08 , 14.6  ,\n",
       "       14.5  , 33.13 , 28.61 , 11.34 , 15.34 , 13.68 , 15.16 , 14.16 ,\n",
       "        6.85 , 12.43 , 33.12 , 33.16 , 15.55 , 31.89 , 29.4  , 28.6  ,\n",
       "       28.09 , 12.18 , 12.41 , 12.43 , 43.1  , 12.82 , 29.49 , 35.78 ,\n",
       "       14.6  , 29.01 , 15.55 ])"
      ]
     },
     "execution_count": 12,
     "metadata": {},
     "output_type": "execute_result"
    }
   ],
   "source": [
    "#y_train.values[:,0]"
   ]
  },
  {
   "cell_type": "markdown",
   "metadata": {},
   "source": [
    "Heating load"
   ]
  },
  {
   "cell_type": "code",
   "execution_count": 13,
   "metadata": {},
   "outputs": [],
   "source": [
    "svr = SVR()\n",
    "svr_rbf_h = SVR(kernel='rbf', C=1e3, gamma=0.1)\n",
    "svr_lin_h = SVR(kernel='linear', C=1e3)\n",
    "svr_poly_h = SVR(kernel='poly', C=1e3, degree=2)\n",
    "y_rbf_h = svr_rbf_h.fit(X_train, y_train.values[:,0]).predict(X_test)\n",
    "y_lin_h = svr_lin_h.fit(X_train, y_train.values[:,0]).predict(X_test)\n",
    "y_poly_h = svr_poly_h.fit(X_train, y_train.values[:,0]).predict(X_test)"
   ]
  },
  {
   "cell_type": "code",
   "execution_count": 14,
   "metadata": {},
   "outputs": [
    {
     "data": {
      "text/plain": [
       "0.3187113611311286"
      ]
     },
     "execution_count": 14,
     "metadata": {},
     "output_type": "execute_result"
    }
   ],
   "source": [
    "rbf_mse_h = mean_squared_error(y_test.values[:,0], y_rbf_h)\n",
    "rbf_mse_h"
   ]
  },
  {
   "cell_type": "code",
   "execution_count": 15,
   "metadata": {},
   "outputs": [
    {
     "data": {
      "text/plain": [
       "8.206230676850689"
      ]
     },
     "execution_count": 15,
     "metadata": {},
     "output_type": "execute_result"
    }
   ],
   "source": [
    "lin_mse_h = mean_squared_error(y_test.values[:,0], y_lin_h)\n",
    "lin_mse_h"
   ]
  },
  {
   "cell_type": "code",
   "execution_count": 16,
   "metadata": {},
   "outputs": [
    {
     "data": {
      "text/plain": [
       "52.40988645016926"
      ]
     },
     "execution_count": 16,
     "metadata": {},
     "output_type": "execute_result"
    }
   ],
   "source": [
    "ply_mse_h = mean_squared_error(y_test.values[:,0], y_poly_h)\n",
    "ply_mse_h"
   ]
  },
  {
   "cell_type": "code",
   "execution_count": 17,
   "metadata": {},
   "outputs": [
    {
     "data": {
      "image/png": "[encoded data removed]",
      "text/plain": [
       "<Figure size 1152x576 with 1 Axes>"
      ]
     },
     "metadata": {
      "needs_background": "light"
     },
     "output_type": "display_data"
    }
   ],
   "source": [
    "x = range(len(y_test.values[:,0]))\n",
    "\n",
    "plt.figure(figsize=(16,8))\n",
    "plt.scatter(x, y_test.values[:,0],alpha=0.5,label='Test')\n",
    "plt.scatter(x, y_rbf_h,alpha=0.5,label='Prediction')\n",
    "plt.xlabel('Test Instance')\n",
    "plt.ylabel('Heating load')\n",
    "plt.legend()\n",
    "plt.show()"
   ]
  },
  {
   "cell_type": "markdown",
   "metadata": {},
   "source": [
    "Cooling load"
   ]
  },
  {
   "cell_type": "code",
   "execution_count": 18,
   "metadata": {},
   "outputs": [],
   "source": [
    "svr_rbf_c = SVR(kernel='rbf', C=1e3, gamma=0.15, epsilon=0.01)\n",
    "svr_lin_c = SVR(kernel='linear', C=1e3)\n",
    "svr_poly_c = SVR(kernel='poly', C=1e3, degree=2)\n",
    "svr_sig_c = SVR(kernel='sigmoid', C=0.2, gamma='auto', epsilon=0.01)\n",
    "y_rbf_c = svr_rbf_c.fit(X_train, y_train.values[:,1]).predict(X_test)\n",
    "y_lin_c = svr_lin_c.fit(X_train, y_train.values[:,1]).predict(X_test)\n",
    "y_poly_c = svr_poly_c.fit(X_train, y_train.values[:,1]).predict(X_test)\n",
    "y_sig_c = svr_sig_c.fit(X_train, y_train.values[:,1]).predict(X_test)"
   ]
  },
  {
   "cell_type": "code",
   "execution_count": 19,
   "metadata": {},
   "outputs": [
    {
     "data": {
      "text/plain": [
       "2.3220119198688334"
      ]
     },
     "execution_count": 19,
     "metadata": {},
     "output_type": "execute_result"
    }
   ],
   "source": [
    "rbf_mse_c = mean_squared_error(y_test.values[:,1], y_rbf_c)\n",
    "rbf_mse_c"
   ]
  },
  {
   "cell_type": "code",
   "execution_count": 20,
   "metadata": {},
   "outputs": [
    {
     "data": {
      "text/plain": [
       "9.933315576843222"
      ]
     },
     "execution_count": 20,
     "metadata": {},
     "output_type": "execute_result"
    }
   ],
   "source": [
    "lin_mse_c = mean_squared_error(y_test.values[:,1], y_lin_c)\n",
    "lin_mse_c"
   ]
  },
  {
   "cell_type": "code",
   "execution_count": 21,
   "metadata": {},
   "outputs": [
    {
     "data": {
      "text/plain": [
       "39.918759634619605"
      ]
     },
     "execution_count": 21,
     "metadata": {},
     "output_type": "execute_result"
    }
   ],
   "source": [
    "ply_mse_c = mean_squared_error(y_test.values[:,1], y_poly_c)\n",
    "ply_mse_c"
   ]
  },
  {
   "cell_type": "code",
   "execution_count": 22,
   "metadata": {},
   "outputs": [
    {
     "data": {
      "text/plain": [
       "12.72388982701069"
      ]
     },
     "execution_count": 22,
     "metadata": {},
     "output_type": "execute_result"
    }
   ],
   "source": [
    "sig_mse_c = mean_squared_error(y_test.values[:,1], y_sig_c)\n",
    "sig_mse_c"
   ]
  },
  {
   "cell_type": "code",
   "execution_count": 23,
   "metadata": {},
   "outputs": [
    {
     "data": {
      "image/png": "[encoded data removed]",
      "text/plain": [
       "<Figure size 1152x576 with 1 Axes>"
      ]
     },
     "metadata": {
      "needs_background": "light"
     },
     "output_type": "display_data"
    }
   ],
   "source": [
    "plt.figure(figsize=(16,8))\n",
    "plt.scatter(x, y_test.values[:,0],alpha=0.5,label='Test')\n",
    "plt.scatter(x, y_rbf_c,alpha=0.5, label='Prediction')\n",
    "plt.xlabel('Test Instance')\n",
    "plt.ylabel('Cooling load')\n",
    "plt.legend()\n",
    "plt.show()"
   ]
  },
  {
   "cell_type": "code",
   "execution_count": 24,
   "metadata": {},
   "outputs": [
    {
     "data": {
      "text/plain": [
       "2.8281643251623487"
      ]
     },
     "execution_count": 24,
     "metadata": {},
     "output_type": "execute_result"
    }
   ],
   "source": [
    "from sklearn.ensemble import RandomForestRegressor\n",
    "rfr_c = RandomForestRegressor(n_estimators=200, random_state=1223)\n",
    "\n",
    "y_rfr_c = rfr_c.fit(X_train, y_train.values[:,1]).predict(X_test)\n",
    "rfr_mse_c = mean_squared_error(y_test.values[:,1], y_rfr_c)\n",
    "rfr_mse_c"
   ]
  },
  {
   "cell_type": "markdown",
   "metadata": {},
   "source": [
    "Hyperparameter tuning on cooling model"
   ]
  },
  {
   "cell_type": "code",
   "execution_count": 25,
   "metadata": {},
   "outputs": [
    {
     "name": "stdout",
     "output_type": "stream",
     "text": [
      "Fitting 5 folds for each of 20 candidates, totalling 100 fits\n",
      "[CV] C=1, gamma=1 ....................................................\n",
      "[CV] ........................ C=1, gamma=1, score=0.605, total=   0.0s\n",
      "[CV] C=1, gamma=1 ....................................................\n",
      "[CV] ........................ C=1, gamma=1, score=0.649, total=   0.0s\n",
      "[CV] C=1, gamma=1 ....................................................\n",
      "[CV] ........................ C=1, gamma=1, score=0.562, total=   0.0s\n",
      "[CV] C=1, gamma=1 ....................................................\n",
      "[CV] ........................ C=1, gamma=1, score=0.620, total=   0.0s\n",
      "[CV] C=1, gamma=1 ....................................................\n",
      "[CV] ........................ C=1, gamma=1, score=0.620, total=   0.0s\n",
      "[CV] C=1, gamma=0.1 ..................................................\n",
      "[CV] ...................... C=1, gamma=0.1, score=0.909, total=   0.0s\n",
      "[CV] C=1, gamma=0.1 ..................................................\n",
      "[CV] ...................... C=1, gamma=0.1, score=0.875, total=   0.0s\n",
      "[CV] C=1, gamma=0.1 ..................................................\n",
      "[CV] ...................... C=1, gamma=0.1, score=0.884, total=   0.0s\n",
      "[CV] C=1, gamma=0.1 ..................................................\n",
      "[CV] ...................... C=1, gamma=0.1, score=0.895, total=   0.0s\n",
      "[CV] C=1, gamma=0.1 ..................................................\n",
      "[CV] ...................... C=1, gamma=0.1, score=0.889, total=   0.0s\n",
      "[CV] C=1, gamma=0.01 .................................................\n",
      "[CV] ..................... C=1, gamma=0.01, score=0.861, total=   0.0s\n",
      "[CV] C=1, gamma=0.01 .................................................\n",
      "[CV] ..................... C=1, gamma=0.01, score=0.834, total=   0.0s\n",
      "[CV] C=1, gamma=0.01 .................................................\n",
      "[CV] ..................... C=1, gamma=0.01, score=0.801, total=   0.0s\n",
      "[CV] C=1, gamma=0.01 .................................................\n",
      "[CV] ..................... C=1, gamma=0.01, score=0.836, total=   0.0s"
     ]
    },
    {
     "name": "stderr",
     "output_type": "stream",
     "text": [
      "[Parallel(n_jobs=1)]: Using backend SequentialBackend with 1 concurrent workers.\n",
      "[Parallel(n_jobs=1)]: Done   1 out of   1 | elapsed:    0.0s remaining:    0.0s\n",
      "[Parallel(n_jobs=1)]: Done   2 out of   2 | elapsed:    0.0s remaining:    0.0s\n"
     ]
    },
    {
     "name": "stdout",
     "output_type": "stream",
     "text": [
      "\n",
      "[CV] C=1, gamma=0.01 .................................................\n",
      "[CV] ..................... C=1, gamma=0.01, score=0.834, total=   0.0s\n",
      "[CV] C=1, gamma=0.001 ................................................\n",
      "[CV] .................... C=1, gamma=0.001, score=0.396, total=   0.0s\n",
      "[CV] C=1, gamma=0.001 ................................................\n",
      "[CV] .................... C=1, gamma=0.001, score=0.453, total=   0.0s\n",
      "[CV] C=1, gamma=0.001 ................................................\n",
      "[CV] .................... C=1, gamma=0.001, score=0.348, total=   0.0s\n",
      "[CV] C=1, gamma=0.001 ................................................\n",
      "[CV] .................... C=1, gamma=0.001, score=0.396, total=   0.0s\n",
      "[CV] C=1, gamma=0.001 ................................................\n",
      "[CV] .................... C=1, gamma=0.001, score=0.439, total=   0.0s\n",
      "[CV] C=10, gamma=1 ...................................................\n",
      "[CV] ....................... C=10, gamma=1, score=0.946, total=   0.0s\n",
      "[CV] C=10, gamma=1 ...................................................\n",
      "[CV] ....................... C=10, gamma=1, score=0.944, total=   0.0s\n",
      "[CV] C=10, gamma=1 ...................................................\n",
      "[CV] ....................... C=10, gamma=1, score=0.925, total=   0.0s\n",
      "[CV] C=10, gamma=1 ...................................................\n",
      "[CV] ....................... C=10, gamma=1, score=0.947, total=   0.0s\n",
      "[CV] C=10, gamma=1 ...................................................\n",
      "[CV] ....................... C=10, gamma=1, score=0.933, total=   0.0s\n",
      "[CV] C=10, gamma=0.1 .................................................\n",
      "[CV] ..................... C=10, gamma=0.1, score=0.938, total=   0.0s\n",
      "[CV] C=10, gamma=0.1 .................................................\n",
      "[CV] ..................... C=10, gamma=0.1, score=0.905, total=   0.0s\n",
      "[CV] C=10, gamma=0.1 .................................................\n",
      "[CV] ..................... C=10, gamma=0.1, score=0.908, total=   0.0s\n",
      "[CV] C=10, gamma=0.1 .................................................\n",
      "[CV] ..................... C=10, gamma=0.1, score=0.913, total=   0.0s\n",
      "[CV] C=10, gamma=0.1 .................................................\n",
      "[CV] ..................... C=10, gamma=0.1, score=0.921, total=   0.0s\n",
      "[CV] C=10, gamma=0.01 ................................................\n",
      "[CV] .................... C=10, gamma=0.01, score=0.909, total=   0.0s\n",
      "[CV] C=10, gamma=0.01 ................................................\n",
      "[CV] .................... C=10, gamma=0.01, score=0.865, total=   0.0s\n",
      "[CV] C=10, gamma=0.01 ................................................\n",
      "[CV] .................... C=10, gamma=0.01, score=0.877, total=   0.0s\n",
      "[CV] C=10, gamma=0.01 ................................................\n",
      "[CV] .................... C=10, gamma=0.01, score=0.881, total=   0.0s\n",
      "[CV] C=10, gamma=0.01 ................................................\n",
      "[CV] .................... C=10, gamma=0.01, score=0.879, total=   0.0s\n",
      "[CV] C=10, gamma=0.001 ...............................................\n",
      "[CV] ................... C=10, gamma=0.001, score=0.849, total=   0.0s\n",
      "[CV] C=10, gamma=0.001 ...............................................\n",
      "[CV] ................... C=10, gamma=0.001, score=0.823, total=   0.0s\n",
      "[CV] C=10, gamma=0.001 ...............................................\n",
      "[CV] ................... C=10, gamma=0.001, score=0.785, total=   0.0s\n",
      "[CV] C=10, gamma=0.001 ...............................................\n",
      "[CV] ................... C=10, gamma=0.001, score=0.820, total=   0.0s\n",
      "[CV] C=10, gamma=0.001 ...............................................\n",
      "[CV] ................... C=10, gamma=0.001, score=0.822, total=   0.0s\n",
      "[CV] C=100, gamma=1 ..................................................\n",
      "[CV] ...................... C=100, gamma=1, score=0.952, total=   0.1s\n",
      "[CV] C=100, gamma=1 ..................................................\n",
      "[CV] ...................... C=100, gamma=1, score=0.960, total=   0.1s\n",
      "[CV] C=100, gamma=1 ..................................................\n",
      "[CV] ...................... C=100, gamma=1, score=0.949, total=   0.1s\n",
      "[CV] C=100, gamma=1 ..................................................\n",
      "[CV] ...................... C=100, gamma=1, score=0.964, total=   0.1s\n",
      "[CV] C=100, gamma=1 ..................................................\n",
      "[CV] ...................... C=100, gamma=1, score=0.953, total=   0.1s\n",
      "[CV] C=100, gamma=0.1 ................................................\n",
      "[CV] .................... C=100, gamma=0.1, score=0.968, total=   0.1s\n",
      "[CV] C=100, gamma=0.1 ................................................\n",
      "[CV] .................... C=100, gamma=0.1, score=0.948, total=   0.1s\n",
      "[CV] C=100, gamma=0.1 ................................................\n",
      "[CV] .................... C=100, gamma=0.1, score=0.942, total=   0.1s\n",
      "[CV] C=100, gamma=0.1 ................................................\n",
      "[CV] .................... C=100, gamma=0.1, score=0.942, total=   0.1s\n",
      "[CV] C=100, gamma=0.1 ................................................\n",
      "[CV] .................... C=100, gamma=0.1, score=0.954, total=   0.1s\n",
      "[CV] C=100, gamma=0.01 ...............................................\n",
      "[CV] ................... C=100, gamma=0.01, score=0.918, total=   0.0s\n",
      "[CV] C=100, gamma=0.01 ...............................................\n",
      "[CV] ................... C=100, gamma=0.01, score=0.878, total=   0.0s\n",
      "[CV] C=100, gamma=0.01 ...............................................\n",
      "[CV] ................... C=100, gamma=0.01, score=0.895, total=   0.0s\n",
      "[CV] C=100, gamma=0.01 ...............................................\n",
      "[CV] ................... C=100, gamma=0.01, score=0.891, total=   0.0s\n",
      "[CV] C=100, gamma=0.01 ...............................................\n",
      "[CV] ................... C=100, gamma=0.01, score=0.894, total=   0.0s\n",
      "[CV] C=100, gamma=0.001 ..............................................\n",
      "[CV] .................. C=100, gamma=0.001, score=0.896, total=   0.0s\n",
      "[CV] C=100, gamma=0.001 ..............................................\n",
      "[CV] .................. C=100, gamma=0.001, score=0.857, total=   0.0s\n",
      "[CV] C=100, gamma=0.001 ..............................................\n",
      "[CV] .................. C=100, gamma=0.001, score=0.856, total=   0.0s\n",
      "[CV] C=100, gamma=0.001 ..............................................\n",
      "[CV] .................. C=100, gamma=0.001, score=0.868, total=   0.0s\n",
      "[CV] C=100, gamma=0.001 ..............................................\n",
      "[CV] .................. C=100, gamma=0.001, score=0.865, total=   0.0s\n",
      "[CV] C=1000, gamma=1 .................................................\n",
      "[CV] ..................... C=1000, gamma=1, score=0.952, total=   0.1s\n",
      "[CV] C=1000, gamma=1 .................................................\n",
      "[CV] ..................... C=1000, gamma=1, score=0.960, total=   0.1s\n",
      "[CV] C=1000, gamma=1 .................................................\n",
      "[CV] ..................... C=1000, gamma=1, score=0.949, total=   0.1s\n",
      "[CV] C=1000, gamma=1 .................................................\n",
      "[CV] ..................... C=1000, gamma=1, score=0.964, total=   0.1s\n",
      "[CV] C=1000, gamma=1 .................................................\n",
      "[CV] ..................... C=1000, gamma=1, score=0.953, total=   0.1s\n",
      "[CV] C=1000, gamma=0.1 ...............................................\n",
      "[CV] ................... C=1000, gamma=0.1, score=0.983, total=   1.5s\n",
      "[CV] C=1000, gamma=0.1 ...............................................\n",
      "[CV] ................... C=1000, gamma=0.1, score=0.980, total=   1.4s\n",
      "[CV] C=1000, gamma=0.1 ...............................................\n",
      "[CV] ................... C=1000, gamma=0.1, score=0.972, total=   1.1s\n",
      "[CV] C=1000, gamma=0.1 ...............................................\n",
      "[CV] ................... C=1000, gamma=0.1, score=0.969, total=   1.1s\n",
      "[CV] C=1000, gamma=0.1 ...............................................\n",
      "[CV] ................... C=1000, gamma=0.1, score=0.976, total=   1.4s\n",
      "[CV] C=1000, gamma=0.01 ..............................................\n",
      "[CV] .................. C=1000, gamma=0.01, score=0.935, total=   0.1s\n",
      "[CV] C=1000, gamma=0.01 ..............................................\n",
      "[CV] .................. C=1000, gamma=0.01, score=0.897, total=   0.1s\n",
      "[CV] C=1000, gamma=0.01 ..............................................\n"
     ]
    },
    {
     "name": "stdout",
     "output_type": "stream",
     "text": [
      "[CV] .................. C=1000, gamma=0.01, score=0.908, total=   0.1s\n",
      "[CV] C=1000, gamma=0.01 ..............................................\n",
      "[CV] .................. C=1000, gamma=0.01, score=0.908, total=   0.1s\n",
      "[CV] C=1000, gamma=0.01 ..............................................\n",
      "[CV] .................. C=1000, gamma=0.01, score=0.918, total=   0.1s\n",
      "[CV] C=1000, gamma=0.001 .............................................\n",
      "[CV] ................. C=1000, gamma=0.001, score=0.914, total=   0.0s\n",
      "[CV] C=1000, gamma=0.001 .............................................\n",
      "[CV] ................. C=1000, gamma=0.001, score=0.871, total=   0.0s\n",
      "[CV] C=1000, gamma=0.001 .............................................\n",
      "[CV] ................. C=1000, gamma=0.001, score=0.889, total=   0.0s\n",
      "[CV] C=1000, gamma=0.001 .............................................\n",
      "[CV] ................. C=1000, gamma=0.001, score=0.889, total=   0.0s\n",
      "[CV] C=1000, gamma=0.001 .............................................\n",
      "[CV] ................. C=1000, gamma=0.001, score=0.889, total=   0.0s\n",
      "[CV] C=1000, gamma=1 .................................................\n",
      "[CV] ..................... C=1000, gamma=1, score=0.952, total=   0.1s\n",
      "[CV] C=1000, gamma=1 .................................................\n",
      "[CV] ..................... C=1000, gamma=1, score=0.960, total=   0.1s\n",
      "[CV] C=1000, gamma=1 .................................................\n",
      "[CV] ..................... C=1000, gamma=1, score=0.949, total=   0.1s\n",
      "[CV] C=1000, gamma=1 .................................................\n",
      "[CV] ..................... C=1000, gamma=1, score=0.964, total=   0.1s\n",
      "[CV] C=1000, gamma=1 .................................................\n",
      "[CV] ..................... C=1000, gamma=1, score=0.953, total=   0.1s\n",
      "[CV] C=1000, gamma=0.1 ...............................................\n",
      "[CV] ................... C=1000, gamma=0.1, score=0.983, total=   1.5s\n",
      "[CV] C=1000, gamma=0.1 ...............................................\n",
      "[CV] ................... C=1000, gamma=0.1, score=0.980, total=   1.4s\n",
      "[CV] C=1000, gamma=0.1 ...............................................\n",
      "[CV] ................... C=1000, gamma=0.1, score=0.972, total=   1.1s\n",
      "[CV] C=1000, gamma=0.1 ...............................................\n",
      "[CV] ................... C=1000, gamma=0.1, score=0.969, total=   1.1s\n",
      "[CV] C=1000, gamma=0.1 ...............................................\n",
      "[CV] ................... C=1000, gamma=0.1, score=0.976, total=   1.4s\n",
      "[CV] C=1000, gamma=0.01 ..............................................\n",
      "[CV] .................. C=1000, gamma=0.01, score=0.935, total=   0.1s\n",
      "[CV] C=1000, gamma=0.01 ..............................................\n",
      "[CV] .................. C=1000, gamma=0.01, score=0.897, total=   0.1s\n",
      "[CV] C=1000, gamma=0.01 ..............................................\n",
      "[CV] .................. C=1000, gamma=0.01, score=0.908, total=   0.1s\n",
      "[CV] C=1000, gamma=0.01 ..............................................\n",
      "[CV] .................. C=1000, gamma=0.01, score=0.908, total=   0.1s\n",
      "[CV] C=1000, gamma=0.01 ..............................................\n",
      "[CV] .................. C=1000, gamma=0.01, score=0.918, total=   0.1s\n",
      "[CV] C=1000, gamma=0.001 .............................................\n",
      "[CV] ................. C=1000, gamma=0.001, score=0.914, total=   0.0s\n",
      "[CV] C=1000, gamma=0.001 .............................................\n",
      "[CV] ................. C=1000, gamma=0.001, score=0.871, total=   0.0s\n",
      "[CV] C=1000, gamma=0.001 .............................................\n",
      "[CV] ................. C=1000, gamma=0.001, score=0.889, total=   0.0s\n",
      "[CV] C=1000, gamma=0.001 .............................................\n",
      "[CV] ................. C=1000, gamma=0.001, score=0.889, total=   0.0s\n",
      "[CV] C=1000, gamma=0.001 .............................................\n",
      "[CV] ................. C=1000, gamma=0.001, score=0.889, total=   0.0s\n"
     ]
    },
    {
     "name": "stderr",
     "output_type": "stream",
     "text": [
      "[Parallel(n_jobs=1)]: Done 100 out of 100 | elapsed:   16.5s finished\n"
     ]
    },
    {
     "name": "stdout",
     "output_type": "stream",
     "text": [
      "{'C': 1000, 'gamma': 0.1}\n"
     ]
    }
   ],
   "source": [
    "from sklearn.model_selection import GridSearchCV\n",
    "\n",
    "parameters = {'C':[1, 10, 100, 1000, 1000], 'gamma': [1,0.1,0.01,0.001]}\n",
    "grid = GridSearchCV(svr, parameters, refit = True, verbose = 3) \n",
    "  \n",
    "# fitting the model for grid search \n",
    "grid.fit(X_train, y_train.values[:,1]) \n",
    "\n",
    "params = grid.best_params_\n",
    "print(params)"
   ]
  },
  {
   "cell_type": "code",
   "execution_count": 26,
   "metadata": {},
   "outputs": [
    {
     "name": "stdout",
     "output_type": "stream",
     "text": [
      "{'n_estimators': [200, 400, 600, 800, 1000, 1200, 1400, 1600, 1800, 2000], 'max_features': ['auto', 'sqrt'], 'max_depth': [10, 20, 30, 40, 50, 60, 70, 80, 90, 100, 110, None], 'min_samples_split': [2, 5, 10], 'min_samples_leaf': [1, 2, 4], 'bootstrap': [True, False]}\n"
     ]
    }
   ],
   "source": [
    "from sklearn.model_selection import RandomizedSearchCV# Number of trees in random forest\n",
    "n_estimators = [int(x) for x in np.linspace(start = 200, stop = 2000, num = 10)]\n",
    "# Number of features to consider at every split\n",
    "max_features = ['auto', 'sqrt']\n",
    "# Maximum number of levels in tree\n",
    "max_depth = [int(x) for x in np.linspace(10, 110, num = 11)]\n",
    "max_depth.append(None)\n",
    "# Minimum number of samples required to split a node\n",
    "min_samples_split = [2, 5, 10]\n",
    "# Minimum number of samples required at each leaf node\n",
    "min_samples_leaf = [1, 2, 4]\n",
    "# Method of selecting samples for training each tree\n",
    "bootstrap = [True, False]# Create the random grid\n",
    "random_grid = {'n_estimators': n_estimators,\n",
    "               'max_features': max_features,\n",
    "               'max_depth': max_depth,\n",
    "               'min_samples_split': min_samples_split,\n",
    "               'min_samples_leaf': min_samples_leaf,\n",
    "               'bootstrap': bootstrap}\n",
    "print(random_grid)"
   ]
  },
  {
   "cell_type": "code",
   "execution_count": 27,
   "metadata": {},
   "outputs": [
    {
     "name": "stdout",
     "output_type": "stream",
     "text": [
      "Fitting 3 folds for each of 100 candidates, totalling 300 fits\n"
     ]
    },
    {
     "name": "stderr",
     "output_type": "stream",
     "text": [
      "[Parallel(n_jobs=-1)]: Using backend LokyBackend with 8 concurrent workers.\n",
      "[Parallel(n_jobs=-1)]: Done  25 tasks      | elapsed:   10.8s\n",
      "[Parallel(n_jobs=-1)]: Done 146 tasks      | elapsed:   50.8s\n",
      "[Parallel(n_jobs=-1)]: Done 300 out of 300 | elapsed:  1.8min finished\n"
     ]
    },
    {
     "data": {
      "text/plain": [
       "{'n_estimators': 200,\n",
       " 'min_samples_split': 2,\n",
       " 'min_samples_leaf': 1,\n",
       " 'max_features': 'sqrt',\n",
       " 'max_depth': 50,\n",
       " 'bootstrap': True}"
      ]
     },
     "execution_count": 27,
     "metadata": {},
     "output_type": "execute_result"
    }
   ],
   "source": [
    "rf = RandomForestRegressor()\n",
    "rf_random = RandomizedSearchCV(estimator = rf, param_distributions = random_grid, n_iter = 100, cv = 3, verbose=2, random_state=42, n_jobs = -1)# Fit the random search model\n",
    "rf_random.fit(X_train, y_train.values[:,1])\n",
    "rf_random.best_params_"
   ]
  },
  {
   "cell_type": "code",
   "execution_count": 48,
   "metadata": {},
   "outputs": [
    {
     "data": {
      "text/plain": [
       "2.2717298592207893"
      ]
     },
     "execution_count": 48,
     "metadata": {},
     "output_type": "execute_result"
    }
   ],
   "source": [
    "rf = RandomForestRegressor(n_estimators=200, min_samples_split=2, min_samples_leaf=1, max_features='sqrt', max_depth=50, bootstrap=True)\n",
    "y_pred = rf.fit(X_train, y_train.values[:,1]).predict(X_test)\n",
    "rf_mse_c = mean_squared_error(y_test.values[:,1], y_pred)\n",
    "rf_mse_c"
   ]
  },
  {
   "cell_type": "code",
   "execution_count": null,
   "metadata": {},
   "outputs": [],
   "source": []
  },
  {
   "cell_type": "code",
   "execution_count": null,
   "metadata": {},
   "outputs": [],
   "source": []
  }
 ],
 "metadata": {
  "kernelspec": {
   "display_name": "Python 3",
   "language": "python",
   "name": "python3"
  },
  "language_info": {
   "codemirror_mode": {
    "name": "ipython",
    "version": 3
   },
   "file_extension": ".py",
   "mimetype": "text/x-python",
   "name": "python",
   "nbconvert_exporter": "python",
   "pygments_lexer": "ipython3",
   "version": "3.7.4"
  }
 },
 "nbformat": 4,
 "nbformat_minor": 2
}
