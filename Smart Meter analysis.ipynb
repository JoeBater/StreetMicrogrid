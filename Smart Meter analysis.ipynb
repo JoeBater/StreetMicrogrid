{
 "cells": [
  {
   "cell_type": "markdown",
   "metadata": {},
   "source": [
    "# Smart Meter Analysis"
   ]
  },
  {
   "cell_type": "code",
   "execution_count": 1,
   "metadata": {},
   "outputs": [],
   "source": [
    "import pandas as pd\n",
    "import numpy as np"
   ]
  },
  {
   "cell_type": "code",
   "execution_count": 14,
   "metadata": {},
   "outputs": [],
   "source": [
    "dirpath = r'C:\\Users\\joeba\\OneDrive\\Documents\\ML\\smart meter'"
   ]
  },
  {
   "cell_type": "code",
   "execution_count": 15,
   "metadata": {},
   "outputs": [
    {
     "name": "stdout",
     "output_type": "stream",
     "text": [
      "   Distinct User ID  21/10/2019  22/10/2019  23/10/2019  24/10/2019  \\\n",
      "0   800030033053980          24           0           0           0   \n",
      "1   800030039680440          24           0           0           0   \n",
      "2   800030039691310          24          24          24          24   \n",
      "3   800030039691610          72           0           0           0   \n",
      "4   800030039691790          48           0           5          48   \n",
      "\n",
      "   25/10/2019  26/10/2019  27/10/2019  \n",
      "0           0           0           0  \n",
      "1           0           0           0  \n",
      "2          24          24          24  \n",
      "3           0           0           0  \n",
      "4          48          48          48  \n"
     ]
    }
   ],
   "source": [
    "d1 = pd.read_csv(dirpath+'/account hourly reads.csv')\n",
    "print(d1.head())"
   ]
  },
  {
   "cell_type": "code",
   "execution_count": 18,
   "metadata": {},
   "outputs": [
    {
     "name": "stdout",
     "output_type": "stream",
     "text": [
      "   Distinct User ID  21/10/2019  22/10/2019  23/10/2019  24/10/2019  \\\n",
      "0   800030033053980          24           0           0           0   \n",
      "1   800030039680440          24           0           0           0   \n",
      "2   800030039691310          24          24          24          24   \n",
      "5   800030039691840          24          24          24          24   \n",
      "6   800030039698870          24          24          24          24   \n",
      "\n",
      "   25/10/2019  26/10/2019  27/10/2019  \n",
      "0           0           0           0  \n",
      "1           0           0           0  \n",
      "2          24          24          24  \n",
      "5          24          24          24  \n",
      "6          24          24          24  \n"
     ]
    }
   ],
   "source": [
    "d1 = d1[d1['21/10/2019'] == 24]\n",
    "print(d1.head())"
   ]
  },
  {
   "cell_type": "code",
   "execution_count": 20,
   "metadata": {},
   "outputs": [
    {
     "data": {
      "text/html": [
       "<div>\n",
       "<style scoped>\n",
       "    .dataframe tbody tr th:only-of-type {\n",
       "        vertical-align: middle;\n",
       "    }\n",
       "\n",
       "    .dataframe tbody tr th {\n",
       "        vertical-align: top;\n",
       "    }\n",
       "\n",
       "    .dataframe thead th {\n",
       "        text-align: right;\n",
       "    }\n",
       "</style>\n",
       "<table border=\"1\" class=\"dataframe\">\n",
       "  <thead>\n",
       "    <tr style=\"text-align: right;\">\n",
       "      <th></th>\n",
       "      <th>Distinct User ID</th>\n",
       "    </tr>\n",
       "  </thead>\n",
       "  <tbody>\n",
       "    <tr>\n",
       "      <td>0</td>\n",
       "      <td>800030033053980</td>\n",
       "    </tr>\n",
       "    <tr>\n",
       "      <td>1</td>\n",
       "      <td>800030039680440</td>\n",
       "    </tr>\n",
       "    <tr>\n",
       "      <td>2</td>\n",
       "      <td>800030039691310</td>\n",
       "    </tr>\n",
       "    <tr>\n",
       "      <td>5</td>\n",
       "      <td>800030039691840</td>\n",
       "    </tr>\n",
       "    <tr>\n",
       "      <td>6</td>\n",
       "      <td>800030039698870</td>\n",
       "    </tr>\n",
       "  </tbody>\n",
       "</table>\n",
       "</div>"
      ],
      "text/plain": [
       "   Distinct User ID\n",
       "0   800030033053980\n",
       "1   800030039680440\n",
       "2   800030039691310\n",
       "5   800030039691840\n",
       "6   800030039698870"
      ]
     },
     "execution_count": 20,
     "metadata": {},
     "output_type": "execute_result"
    }
   ],
   "source": [
    "uid = d1[['Distinct User ID']]\n",
    "uid.head()"
   ]
  },
  {
   "cell_type": "code",
   "execution_count": 16,
   "metadata": {},
   "outputs": [
    {
     "name": "stdout",
     "output_type": "stream",
     "text": [
      "         Date Start  time  End time  Trading period  KWh per hour  \\\n",
      "0  21/10/2019    00:00:00  01:00:00               0           0.6   \n",
      "1  21/10/2019    01:00:00  02:00:00               1           0.6   \n",
      "2  21/10/2019    02:00:00  03:00:00               2           0.6   \n",
      "3  21/10/2019    03:00:00  04:00:00               3           0.6   \n",
      "4  21/10/2019    04:00:00  05:00:00               4           1.2   \n",
      "\n",
      "           User ID  \n",
      "0  800030033053980  \n",
      "1  800030033053980  \n",
      "2  800030033053980  \n",
      "3  800030033053980  \n",
      "4  800030033053980  \n"
     ]
    }
   ],
   "source": [
    "d2 = pd.read_csv(dirpath+'/load profile data.csv')\n",
    "print(d2.head())"
   ]
  },
  {
   "cell_type": "code",
   "execution_count": 23,
   "metadata": {},
   "outputs": [
    {
     "data": {
      "text/html": [
       "<div>\n",
       "<style scoped>\n",
       "    .dataframe tbody tr th:only-of-type {\n",
       "        vertical-align: middle;\n",
       "    }\n",
       "\n",
       "    .dataframe tbody tr th {\n",
       "        vertical-align: top;\n",
       "    }\n",
       "\n",
       "    .dataframe thead th {\n",
       "        text-align: right;\n",
       "    }\n",
       "</style>\n",
       "<table border=\"1\" class=\"dataframe\">\n",
       "  <thead>\n",
       "    <tr style=\"text-align: right;\">\n",
       "      <th></th>\n",
       "      <th>Distinct User ID</th>\n",
       "      <th>Date</th>\n",
       "      <th>Start  time</th>\n",
       "      <th>End time</th>\n",
       "      <th>Trading period</th>\n",
       "      <th>KWh per hour</th>\n",
       "      <th>User ID</th>\n",
       "    </tr>\n",
       "  </thead>\n",
       "  <tbody>\n",
       "    <tr>\n",
       "      <td>0</td>\n",
       "      <td>800030033053980</td>\n",
       "      <td>21/10/2019</td>\n",
       "      <td>00:00:00</td>\n",
       "      <td>01:00:00</td>\n",
       "      <td>0</td>\n",
       "      <td>0.6</td>\n",
       "      <td>800030033053980</td>\n",
       "    </tr>\n",
       "    <tr>\n",
       "      <td>1</td>\n",
       "      <td>800030033053980</td>\n",
       "      <td>21/10/2019</td>\n",
       "      <td>01:00:00</td>\n",
       "      <td>02:00:00</td>\n",
       "      <td>1</td>\n",
       "      <td>0.6</td>\n",
       "      <td>800030033053980</td>\n",
       "    </tr>\n",
       "    <tr>\n",
       "      <td>2</td>\n",
       "      <td>800030033053980</td>\n",
       "      <td>21/10/2019</td>\n",
       "      <td>02:00:00</td>\n",
       "      <td>03:00:00</td>\n",
       "      <td>2</td>\n",
       "      <td>0.6</td>\n",
       "      <td>800030033053980</td>\n",
       "    </tr>\n",
       "    <tr>\n",
       "      <td>3</td>\n",
       "      <td>800030033053980</td>\n",
       "      <td>21/10/2019</td>\n",
       "      <td>03:00:00</td>\n",
       "      <td>04:00:00</td>\n",
       "      <td>3</td>\n",
       "      <td>0.6</td>\n",
       "      <td>800030033053980</td>\n",
       "    </tr>\n",
       "    <tr>\n",
       "      <td>4</td>\n",
       "      <td>800030033053980</td>\n",
       "      <td>21/10/2019</td>\n",
       "      <td>04:00:00</td>\n",
       "      <td>05:00:00</td>\n",
       "      <td>4</td>\n",
       "      <td>1.2</td>\n",
       "      <td>800030033053980</td>\n",
       "    </tr>\n",
       "    <tr>\n",
       "      <td>...</td>\n",
       "      <td>...</td>\n",
       "      <td>...</td>\n",
       "      <td>...</td>\n",
       "      <td>...</td>\n",
       "      <td>...</td>\n",
       "      <td>...</td>\n",
       "      <td>...</td>\n",
       "    </tr>\n",
       "    <tr>\n",
       "      <td>18982</td>\n",
       "      <td>800060050746880</td>\n",
       "      <td>21/10/2019</td>\n",
       "      <td>19:00:00</td>\n",
       "      <td>20:00:00</td>\n",
       "      <td>19</td>\n",
       "      <td>108.8</td>\n",
       "      <td>800060050746880</td>\n",
       "    </tr>\n",
       "    <tr>\n",
       "      <td>18983</td>\n",
       "      <td>800060050746880</td>\n",
       "      <td>21/10/2019</td>\n",
       "      <td>20:00:00</td>\n",
       "      <td>21:00:00</td>\n",
       "      <td>20</td>\n",
       "      <td>106.4</td>\n",
       "      <td>800060050746880</td>\n",
       "    </tr>\n",
       "    <tr>\n",
       "      <td>18984</td>\n",
       "      <td>800060050746880</td>\n",
       "      <td>21/10/2019</td>\n",
       "      <td>21:00:00</td>\n",
       "      <td>22:00:00</td>\n",
       "      <td>21</td>\n",
       "      <td>76.0</td>\n",
       "      <td>800060050746880</td>\n",
       "    </tr>\n",
       "    <tr>\n",
       "      <td>18985</td>\n",
       "      <td>800060050746880</td>\n",
       "      <td>21/10/2019</td>\n",
       "      <td>22:00:00</td>\n",
       "      <td>23:00:00</td>\n",
       "      <td>22</td>\n",
       "      <td>72.0</td>\n",
       "      <td>800060050746880</td>\n",
       "    </tr>\n",
       "    <tr>\n",
       "      <td>18986</td>\n",
       "      <td>800060050746880</td>\n",
       "      <td>21/10/2019</td>\n",
       "      <td>23:00:00</td>\n",
       "      <td>24:00:00</td>\n",
       "      <td>23</td>\n",
       "      <td>95.2</td>\n",
       "      <td>800060050746880</td>\n",
       "    </tr>\n",
       "  </tbody>\n",
       "</table>\n",
       "<p>18987 rows × 7 columns</p>\n",
       "</div>"
      ],
      "text/plain": [
       "       Distinct User ID        Date Start  time  End time  Trading period  \\\n",
       "0       800030033053980  21/10/2019    00:00:00  01:00:00               0   \n",
       "1       800030033053980  21/10/2019    01:00:00  02:00:00               1   \n",
       "2       800030033053980  21/10/2019    02:00:00  03:00:00               2   \n",
       "3       800030033053980  21/10/2019    03:00:00  04:00:00               3   \n",
       "4       800030033053980  21/10/2019    04:00:00  05:00:00               4   \n",
       "...                 ...         ...         ...       ...             ...   \n",
       "18982   800060050746880  21/10/2019    19:00:00  20:00:00              19   \n",
       "18983   800060050746880  21/10/2019    20:00:00  21:00:00              20   \n",
       "18984   800060050746880  21/10/2019    21:00:00  22:00:00              21   \n",
       "18985   800060050746880  21/10/2019    22:00:00  23:00:00              22   \n",
       "18986   800060050746880  21/10/2019    23:00:00  24:00:00              23   \n",
       "\n",
       "       KWh per hour          User ID  \n",
       "0               0.6  800030033053980  \n",
       "1               0.6  800030033053980  \n",
       "2               0.6  800030033053980  \n",
       "3               0.6  800030033053980  \n",
       "4               1.2  800030033053980  \n",
       "...             ...              ...  \n",
       "18982         108.8  800060050746880  \n",
       "18983         106.4  800060050746880  \n",
       "18984          76.0  800060050746880  \n",
       "18985          72.0  800060050746880  \n",
       "18986          95.2  800060050746880  \n",
       "\n",
       "[18987 rows x 7 columns]"
      ]
     },
     "execution_count": 23,
     "metadata": {},
     "output_type": "execute_result"
    }
   ],
   "source": [
    "d2u = uid.merge(d2, left_on='Distinct User ID', right_on='User ID', how='left')\n",
    "d2u"
   ]
  },
  {
   "cell_type": "code",
   "execution_count": 24,
   "metadata": {},
   "outputs": [],
   "source": [
    "d2u.to_csv(dirpath+'/d2u21Oct2019.csv')"
   ]
  },
  {
   "cell_type": "code",
   "execution_count": null,
   "metadata": {},
   "outputs": [],
   "source": []
  },
  {
   "cell_type": "code",
   "execution_count": null,
   "metadata": {},
   "outputs": [],
   "source": []
  }
 ],
 "metadata": {
  "kernelspec": {
   "display_name": "Python 3",
   "language": "python",
   "name": "python3"
  },
  "language_info": {
   "codemirror_mode": {
    "name": "ipython",
    "version": 3
   },
   "file_extension": ".py",
   "mimetype": "text/x-python",
   "name": "python",
   "nbconvert_exporter": "python",
   "pygments_lexer": "ipython3",
   "version": "3.7.4"
  }
 },
 "nbformat": 4,
 "nbformat_minor": 2
}
