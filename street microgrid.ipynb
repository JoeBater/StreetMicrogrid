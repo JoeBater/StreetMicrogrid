{
 "cells": [
  {
   "cell_type": "markdown",
   "metadata": {},
   "source": [
    "# Street microgrid"
   ]
  },
  {
   "cell_type": "markdown",
   "metadata": {},
   "source": [
    "Initial part is some EDA and trying to clean data"
   ]
  },
  {
   "cell_type": "code",
   "execution_count": 1,
   "metadata": {},
   "outputs": [],
   "source": [
    "# basic libraries\n",
    "import pandas as pd\n",
    "import numpy as np\n",
    "\n",
    "from datetime import datetime, timedelta\n",
    "\n",
    "from tqdm import tqdm, trange\n",
    "\n",
    "import matplotlib.pyplot as plt\n",
    "%matplotlib inline\n",
    "\n",
    "import seaborn as sns\n",
    "\n",
    "from sklearn.cluster import KMeans\n",
    "\n"
   ]
  },
  {
   "cell_type": "code",
   "execution_count": 2,
   "metadata": {},
   "outputs": [],
   "source": [
    "dirpath = r'C:\\Users\\joeba\\OneDrive\\Documents\\ML\\smart meter'"
   ]
  },
  {
   "cell_type": "code",
   "execution_count": 3,
   "metadata": {},
   "outputs": [],
   "source": [
    "# smart meter data\n",
    "smdpath = dirpath+'/Power-Networks-LCL-June2015(withAcornGps).csv_Pieces'\n",
    "\n",
    "smart_meter_data = pd.read_csv(smdpath+'/Power-Networks-LCL-June2015(withAcornGps)v2_1.csv', \n",
    "                               parse_dates=['DateTime'],\n",
    "                               dayfirst=True,\n",
    "                               usecols=['DateTime', 'KWH/hh (per half hour) '] )\n",
    "\n",
    "smart_meter_data['KWH/hh (per half hour) '].fillna(0, inplace=True)\n",
    "smart_meter_data['KWH/hh (per half hour) '].replace('Null', 0.0, inplace=True)\n",
    "smart_meter_data['KWH/hh (per half hour) '] = smart_meter_data['KWH/hh (per half hour) '].astype(float)\n",
    "smart_meter_data['house'] = 1\n",
    "\n",
    "smart_meter_data['Date'] = smart_meter_data['DateTime'].dt.strftime('%Y-%m-%d')\n",
    "smart_meter_data['Date'] = pd.to_datetime(smart_meter_data['Date'], dayfirst=True)\n",
    "\n",
    "smart_meter_data = smart_meter_data.drop_duplicates(subset=['DateTime'], keep='first')\n",
    "\n",
    "# reduce to one year\n",
    "smart_meter_data = smart_meter_data[smart_meter_data['Date'] > '2012-12-31']\n",
    "smart_meter_data = smart_meter_data[smart_meter_data['Date'] < '2014-01-01']\n",
    "\n",
    "smart_meter_data.shape\n",
    "\n",
    "smart_meter_data = smart_meter_data[['Date', 'DateTime', 'KWH/hh (per half hour) ']]\n",
    "smart_meter_data.columns = ['Date', 'DateTime', 'h1']"
   ]
  },
  {
   "cell_type": "code",
   "execution_count": 4,
   "metadata": {},
   "outputs": [
    {
     "data": {
      "text/html": [
       "<div>\n",
       "<style scoped>\n",
       "    .dataframe tbody tr th:only-of-type {\n",
       "        vertical-align: middle;\n",
       "    }\n",
       "\n",
       "    .dataframe tbody tr th {\n",
       "        vertical-align: top;\n",
       "    }\n",
       "\n",
       "    .dataframe thead th {\n",
       "        text-align: right;\n",
       "    }\n",
       "</style>\n",
       "<table border=\"1\" class=\"dataframe\">\n",
       "  <thead>\n",
       "    <tr style=\"text-align: right;\">\n",
       "      <th></th>\n",
       "      <th>Date</th>\n",
       "      <th>DateTime</th>\n",
       "      <th>h1</th>\n",
       "    </tr>\n",
       "  </thead>\n",
       "  <tbody>\n",
       "    <tr>\n",
       "      <th>3840</th>\n",
       "      <td>2013-01-01</td>\n",
       "      <td>2013-01-01 00:00:00</td>\n",
       "      <td>0.219</td>\n",
       "    </tr>\n",
       "    <tr>\n",
       "      <th>3841</th>\n",
       "      <td>2013-01-01</td>\n",
       "      <td>2013-01-01 00:30:00</td>\n",
       "      <td>0.241</td>\n",
       "    </tr>\n",
       "    <tr>\n",
       "      <th>3842</th>\n",
       "      <td>2013-01-01</td>\n",
       "      <td>2013-01-01 01:00:00</td>\n",
       "      <td>0.191</td>\n",
       "    </tr>\n",
       "    <tr>\n",
       "      <th>3843</th>\n",
       "      <td>2013-01-01</td>\n",
       "      <td>2013-01-01 01:30:00</td>\n",
       "      <td>0.235</td>\n",
       "    </tr>\n",
       "    <tr>\n",
       "      <th>3844</th>\n",
       "      <td>2013-01-01</td>\n",
       "      <td>2013-01-01 02:00:00</td>\n",
       "      <td>0.182</td>\n",
       "    </tr>\n",
       "    <tr>\n",
       "      <th>...</th>\n",
       "      <td>...</td>\n",
       "      <td>...</td>\n",
       "      <td>...</td>\n",
       "    </tr>\n",
       "    <tr>\n",
       "      <th>21367</th>\n",
       "      <td>2013-12-31</td>\n",
       "      <td>2013-12-31 21:30:00</td>\n",
       "      <td>0.451</td>\n",
       "    </tr>\n",
       "    <tr>\n",
       "      <th>21368</th>\n",
       "      <td>2013-12-31</td>\n",
       "      <td>2013-12-31 22:00:00</td>\n",
       "      <td>0.456</td>\n",
       "    </tr>\n",
       "    <tr>\n",
       "      <th>21369</th>\n",
       "      <td>2013-12-31</td>\n",
       "      <td>2013-12-31 22:30:00</td>\n",
       "      <td>0.402</td>\n",
       "    </tr>\n",
       "    <tr>\n",
       "      <th>21370</th>\n",
       "      <td>2013-12-31</td>\n",
       "      <td>2013-12-31 23:00:00</td>\n",
       "      <td>0.491</td>\n",
       "    </tr>\n",
       "    <tr>\n",
       "      <th>21371</th>\n",
       "      <td>2013-12-31</td>\n",
       "      <td>2013-12-31 23:30:00</td>\n",
       "      <td>0.452</td>\n",
       "    </tr>\n",
       "  </tbody>\n",
       "</table>\n",
       "<p>17520 rows × 3 columns</p>\n",
       "</div>"
      ],
      "text/plain": [
       "            Date            DateTime     h1\n",
       "3840  2013-01-01 2013-01-01 00:00:00  0.219\n",
       "3841  2013-01-01 2013-01-01 00:30:00  0.241\n",
       "3842  2013-01-01 2013-01-01 01:00:00  0.191\n",
       "3843  2013-01-01 2013-01-01 01:30:00  0.235\n",
       "3844  2013-01-01 2013-01-01 02:00:00  0.182\n",
       "...          ...                 ...    ...\n",
       "21367 2013-12-31 2013-12-31 21:30:00  0.451\n",
       "21368 2013-12-31 2013-12-31 22:00:00  0.456\n",
       "21369 2013-12-31 2013-12-31 22:30:00  0.402\n",
       "21370 2013-12-31 2013-12-31 23:00:00  0.491\n",
       "21371 2013-12-31 2013-12-31 23:30:00  0.452\n",
       "\n",
       "[17520 rows x 3 columns]"
      ]
     },
     "execution_count": 4,
     "metadata": {},
     "output_type": "execute_result"
    }
   ],
   "source": [
    "smart_meter_data"
   ]
  },
  {
   "cell_type": "code",
   "execution_count": 5,
   "metadata": {},
   "outputs": [
    {
     "data": {
      "text/plain": [
       "Date        datetime64[ns]\n",
       "DateTime    datetime64[ns]\n",
       "h1                 float64\n",
       "dtype: object"
      ]
     },
     "execution_count": 5,
     "metadata": {},
     "output_type": "execute_result"
    }
   ],
   "source": [
    "smart_meter_data.dtypes"
   ]
  },
  {
   "cell_type": "code",
   "execution_count": 6,
   "metadata": {},
   "outputs": [
    {
     "name": "stderr",
     "output_type": "stream",
     "text": [
      "100%|████████████████████████████████████████████████████████████████████████████████| 167/167 [31:02<00:00, 11.15s/it]\n"
     ]
    }
   ],
   "source": [
    "# get first N houses\n",
    "for i in trange(2, 169):\n",
    "\n",
    "    h2 = pd.read_csv(smdpath+'/Power-Networks-LCL-June2015(withAcornGps)v2_'+str(i)+'.csv', \n",
    "                                   parse_dates=['DateTime'],\n",
    "                                   dayfirst=True,\n",
    "                                   usecols=['DateTime', 'KWH/hh (per half hour) '] )\n",
    "\n",
    "    h2['KWH/hh (per half hour) '].fillna(0, inplace=True)\n",
    "    h2['KWH/hh (per half hour) '].replace('Null', 0.0, inplace=True)\n",
    "    h2['KWH/hh (per half hour) '] = h2['KWH/hh (per half hour) '].astype(float)\n",
    "    h2['house'] = 1\n",
    "\n",
    "    h2['Date'] = h2['DateTime'].dt.strftime('%Y-%m-%d')\n",
    "    h2['Date'] = pd.to_datetime(h2['Date'], dayfirst=True)\n",
    "\n",
    "    h2 = h2.drop_duplicates(subset=['DateTime'], keep='first')\n",
    "\n",
    "    # reduce to one year\n",
    "    h2 = h2[h2['Date'] > '2012-12-31']\n",
    "    h2 = h2[h2['Date'] < '2014-01-01']\n",
    "\n",
    "    h2 = h2[['DateTime', 'KWH/hh (per half hour) ']]\n",
    "    h2.columns = ['DateTime', 'h'+str(i)]\n",
    "    #h2.shape\n",
    "    \n",
    "    smart_meter_data = pd.merge(smart_meter_data, h2, how='left', on='DateTime')"
   ]
  },
  {
   "cell_type": "code",
   "execution_count": 7,
   "metadata": {},
   "outputs": [
    {
     "data": {
      "text/html": [
       "<div>\n",
       "<style scoped>\n",
       "    .dataframe tbody tr th:only-of-type {\n",
       "        vertical-align: middle;\n",
       "    }\n",
       "\n",
       "    .dataframe tbody tr th {\n",
       "        vertical-align: top;\n",
       "    }\n",
       "\n",
       "    .dataframe thead th {\n",
       "        text-align: right;\n",
       "    }\n",
       "</style>\n",
       "<table border=\"1\" class=\"dataframe\">\n",
       "  <thead>\n",
       "    <tr style=\"text-align: right;\">\n",
       "      <th></th>\n",
       "      <th>Date</th>\n",
       "      <th>DateTime</th>\n",
       "      <th>h1</th>\n",
       "      <th>h2</th>\n",
       "      <th>h3</th>\n",
       "      <th>h4</th>\n",
       "      <th>h5</th>\n",
       "      <th>h6</th>\n",
       "      <th>h7</th>\n",
       "      <th>h8</th>\n",
       "      <th>...</th>\n",
       "      <th>h159</th>\n",
       "      <th>h160</th>\n",
       "      <th>h161</th>\n",
       "      <th>h162</th>\n",
       "      <th>h163</th>\n",
       "      <th>h164</th>\n",
       "      <th>h165</th>\n",
       "      <th>h166</th>\n",
       "      <th>h167</th>\n",
       "      <th>h168</th>\n",
       "    </tr>\n",
       "  </thead>\n",
       "  <tbody>\n",
       "    <tr>\n",
       "      <th>0</th>\n",
       "      <td>2013-01-01</td>\n",
       "      <td>2013-01-01 00:00:00</td>\n",
       "      <td>0.219</td>\n",
       "      <td>0.006</td>\n",
       "      <td>0.093</td>\n",
       "      <td>0.073</td>\n",
       "      <td>0.107</td>\n",
       "      <td>0.235</td>\n",
       "      <td>0.032</td>\n",
       "      <td>0.076</td>\n",
       "      <td>...</td>\n",
       "      <td>0.100</td>\n",
       "      <td>0.168</td>\n",
       "      <td>0.240</td>\n",
       "      <td>0.076</td>\n",
       "      <td>0.065</td>\n",
       "      <td>0.155</td>\n",
       "      <td>0.209</td>\n",
       "      <td>0.151</td>\n",
       "      <td>0.684</td>\n",
       "      <td>0.105</td>\n",
       "    </tr>\n",
       "    <tr>\n",
       "      <th>1</th>\n",
       "      <td>2013-01-01</td>\n",
       "      <td>2013-01-01 00:30:00</td>\n",
       "      <td>0.241</td>\n",
       "      <td>0.017</td>\n",
       "      <td>0.068</td>\n",
       "      <td>0.059</td>\n",
       "      <td>0.103</td>\n",
       "      <td>0.201</td>\n",
       "      <td>0.034</td>\n",
       "      <td>0.075</td>\n",
       "      <td>...</td>\n",
       "      <td>0.095</td>\n",
       "      <td>0.265</td>\n",
       "      <td>0.318</td>\n",
       "      <td>0.053</td>\n",
       "      <td>0.127</td>\n",
       "      <td>0.111</td>\n",
       "      <td>0.230</td>\n",
       "      <td>0.165</td>\n",
       "      <td>0.536</td>\n",
       "      <td>0.087</td>\n",
       "    </tr>\n",
       "    <tr>\n",
       "      <th>2</th>\n",
       "      <td>2013-01-01</td>\n",
       "      <td>2013-01-01 01:00:00</td>\n",
       "      <td>0.191</td>\n",
       "      <td>0.059</td>\n",
       "      <td>0.078</td>\n",
       "      <td>0.069</td>\n",
       "      <td>0.103</td>\n",
       "      <td>0.202</td>\n",
       "      <td>0.013</td>\n",
       "      <td>0.073</td>\n",
       "      <td>...</td>\n",
       "      <td>0.059</td>\n",
       "      <td>0.160</td>\n",
       "      <td>0.328</td>\n",
       "      <td>0.037</td>\n",
       "      <td>0.082</td>\n",
       "      <td>0.167</td>\n",
       "      <td>0.187</td>\n",
       "      <td>0.387</td>\n",
       "      <td>0.377</td>\n",
       "      <td>0.050</td>\n",
       "    </tr>\n",
       "    <tr>\n",
       "      <th>3</th>\n",
       "      <td>2013-01-01</td>\n",
       "      <td>2013-01-01 01:30:00</td>\n",
       "      <td>0.235</td>\n",
       "      <td>0.000</td>\n",
       "      <td>0.228</td>\n",
       "      <td>0.059</td>\n",
       "      <td>0.130</td>\n",
       "      <td>0.162</td>\n",
       "      <td>0.043</td>\n",
       "      <td>0.073</td>\n",
       "      <td>...</td>\n",
       "      <td>0.084</td>\n",
       "      <td>0.198</td>\n",
       "      <td>0.222</td>\n",
       "      <td>0.036</td>\n",
       "      <td>0.106</td>\n",
       "      <td>0.091</td>\n",
       "      <td>0.109</td>\n",
       "      <td>0.082</td>\n",
       "      <td>0.387</td>\n",
       "      <td>0.045</td>\n",
       "    </tr>\n",
       "    <tr>\n",
       "      <th>4</th>\n",
       "      <td>2013-01-01</td>\n",
       "      <td>2013-01-01 02:00:00</td>\n",
       "      <td>0.182</td>\n",
       "      <td>0.000</td>\n",
       "      <td>0.097</td>\n",
       "      <td>0.088</td>\n",
       "      <td>0.078</td>\n",
       "      <td>0.175</td>\n",
       "      <td>0.069</td>\n",
       "      <td>0.072</td>\n",
       "      <td>...</td>\n",
       "      <td>0.098</td>\n",
       "      <td>0.159</td>\n",
       "      <td>0.308</td>\n",
       "      <td>0.051</td>\n",
       "      <td>0.097</td>\n",
       "      <td>0.065</td>\n",
       "      <td>0.168</td>\n",
       "      <td>0.051</td>\n",
       "      <td>0.645</td>\n",
       "      <td>0.061</td>\n",
       "    </tr>\n",
       "    <tr>\n",
       "      <th>...</th>\n",
       "      <td>...</td>\n",
       "      <td>...</td>\n",
       "      <td>...</td>\n",
       "      <td>...</td>\n",
       "      <td>...</td>\n",
       "      <td>...</td>\n",
       "      <td>...</td>\n",
       "      <td>...</td>\n",
       "      <td>...</td>\n",
       "      <td>...</td>\n",
       "      <td>...</td>\n",
       "      <td>...</td>\n",
       "      <td>...</td>\n",
       "      <td>...</td>\n",
       "      <td>...</td>\n",
       "      <td>...</td>\n",
       "      <td>...</td>\n",
       "      <td>...</td>\n",
       "      <td>...</td>\n",
       "      <td>...</td>\n",
       "      <td>...</td>\n",
       "    </tr>\n",
       "    <tr>\n",
       "      <th>17515</th>\n",
       "      <td>2013-12-31</td>\n",
       "      <td>2013-12-31 21:30:00</td>\n",
       "      <td>0.451</td>\n",
       "      <td>0.056</td>\n",
       "      <td>0.096</td>\n",
       "      <td>0.173</td>\n",
       "      <td>0.140</td>\n",
       "      <td>0.710</td>\n",
       "      <td>0.093</td>\n",
       "      <td>0.087</td>\n",
       "      <td>...</td>\n",
       "      <td>0.142</td>\n",
       "      <td>0.553</td>\n",
       "      <td>0.129</td>\n",
       "      <td>0.247</td>\n",
       "      <td>0.482</td>\n",
       "      <td>0.331</td>\n",
       "      <td>0.308</td>\n",
       "      <td>0.190</td>\n",
       "      <td>1.351</td>\n",
       "      <td>0.095</td>\n",
       "    </tr>\n",
       "    <tr>\n",
       "      <th>17516</th>\n",
       "      <td>2013-12-31</td>\n",
       "      <td>2013-12-31 22:00:00</td>\n",
       "      <td>0.456</td>\n",
       "      <td>0.017</td>\n",
       "      <td>0.107</td>\n",
       "      <td>0.166</td>\n",
       "      <td>0.158</td>\n",
       "      <td>0.265</td>\n",
       "      <td>0.104</td>\n",
       "      <td>0.095</td>\n",
       "      <td>...</td>\n",
       "      <td>0.123</td>\n",
       "      <td>0.641</td>\n",
       "      <td>0.164</td>\n",
       "      <td>0.260</td>\n",
       "      <td>0.560</td>\n",
       "      <td>0.237</td>\n",
       "      <td>0.269</td>\n",
       "      <td>0.487</td>\n",
       "      <td>1.954</td>\n",
       "      <td>0.107</td>\n",
       "    </tr>\n",
       "    <tr>\n",
       "      <th>17517</th>\n",
       "      <td>2013-12-31</td>\n",
       "      <td>2013-12-31 22:30:00</td>\n",
       "      <td>0.402</td>\n",
       "      <td>0.015</td>\n",
       "      <td>0.055</td>\n",
       "      <td>0.279</td>\n",
       "      <td>0.157</td>\n",
       "      <td>0.232</td>\n",
       "      <td>0.083</td>\n",
       "      <td>0.057</td>\n",
       "      <td>...</td>\n",
       "      <td>0.102</td>\n",
       "      <td>0.613</td>\n",
       "      <td>0.109</td>\n",
       "      <td>0.232</td>\n",
       "      <td>0.425</td>\n",
       "      <td>0.172</td>\n",
       "      <td>0.269</td>\n",
       "      <td>0.147</td>\n",
       "      <td>1.939</td>\n",
       "      <td>0.128</td>\n",
       "    </tr>\n",
       "    <tr>\n",
       "      <th>17518</th>\n",
       "      <td>2013-12-31</td>\n",
       "      <td>2013-12-31 23:00:00</td>\n",
       "      <td>0.491</td>\n",
       "      <td>0.027</td>\n",
       "      <td>0.066</td>\n",
       "      <td>0.142</td>\n",
       "      <td>0.124</td>\n",
       "      <td>0.172</td>\n",
       "      <td>0.110</td>\n",
       "      <td>0.033</td>\n",
       "      <td>...</td>\n",
       "      <td>0.102</td>\n",
       "      <td>0.585</td>\n",
       "      <td>0.160</td>\n",
       "      <td>0.258</td>\n",
       "      <td>0.520</td>\n",
       "      <td>0.148</td>\n",
       "      <td>0.182</td>\n",
       "      <td>0.264</td>\n",
       "      <td>1.366</td>\n",
       "      <td>0.056</td>\n",
       "    </tr>\n",
       "    <tr>\n",
       "      <th>17519</th>\n",
       "      <td>2013-12-31</td>\n",
       "      <td>2013-12-31 23:30:00</td>\n",
       "      <td>0.452</td>\n",
       "      <td>0.006</td>\n",
       "      <td>0.057</td>\n",
       "      <td>0.160</td>\n",
       "      <td>0.071</td>\n",
       "      <td>0.237</td>\n",
       "      <td>0.076</td>\n",
       "      <td>0.030</td>\n",
       "      <td>...</td>\n",
       "      <td>0.121</td>\n",
       "      <td>0.526</td>\n",
       "      <td>0.188</td>\n",
       "      <td>0.235</td>\n",
       "      <td>0.554</td>\n",
       "      <td>0.161</td>\n",
       "      <td>0.125</td>\n",
       "      <td>0.152</td>\n",
       "      <td>0.472</td>\n",
       "      <td>0.024</td>\n",
       "    </tr>\n",
       "  </tbody>\n",
       "</table>\n",
       "<p>17520 rows × 170 columns</p>\n",
       "</div>"
      ],
      "text/plain": [
       "            Date            DateTime     h1     h2     h3     h4     h5  \\\n",
       "0     2013-01-01 2013-01-01 00:00:00  0.219  0.006  0.093  0.073  0.107   \n",
       "1     2013-01-01 2013-01-01 00:30:00  0.241  0.017  0.068  0.059  0.103   \n",
       "2     2013-01-01 2013-01-01 01:00:00  0.191  0.059  0.078  0.069  0.103   \n",
       "3     2013-01-01 2013-01-01 01:30:00  0.235  0.000  0.228  0.059  0.130   \n",
       "4     2013-01-01 2013-01-01 02:00:00  0.182  0.000  0.097  0.088  0.078   \n",
       "...          ...                 ...    ...    ...    ...    ...    ...   \n",
       "17515 2013-12-31 2013-12-31 21:30:00  0.451  0.056  0.096  0.173  0.140   \n",
       "17516 2013-12-31 2013-12-31 22:00:00  0.456  0.017  0.107  0.166  0.158   \n",
       "17517 2013-12-31 2013-12-31 22:30:00  0.402  0.015  0.055  0.279  0.157   \n",
       "17518 2013-12-31 2013-12-31 23:00:00  0.491  0.027  0.066  0.142  0.124   \n",
       "17519 2013-12-31 2013-12-31 23:30:00  0.452  0.006  0.057  0.160  0.071   \n",
       "\n",
       "          h6     h7     h8  ...   h159   h160   h161   h162   h163   h164  \\\n",
       "0      0.235  0.032  0.076  ...  0.100  0.168  0.240  0.076  0.065  0.155   \n",
       "1      0.201  0.034  0.075  ...  0.095  0.265  0.318  0.053  0.127  0.111   \n",
       "2      0.202  0.013  0.073  ...  0.059  0.160  0.328  0.037  0.082  0.167   \n",
       "3      0.162  0.043  0.073  ...  0.084  0.198  0.222  0.036  0.106  0.091   \n",
       "4      0.175  0.069  0.072  ...  0.098  0.159  0.308  0.051  0.097  0.065   \n",
       "...      ...    ...    ...  ...    ...    ...    ...    ...    ...    ...   \n",
       "17515  0.710  0.093  0.087  ...  0.142  0.553  0.129  0.247  0.482  0.331   \n",
       "17516  0.265  0.104  0.095  ...  0.123  0.641  0.164  0.260  0.560  0.237   \n",
       "17517  0.232  0.083  0.057  ...  0.102  0.613  0.109  0.232  0.425  0.172   \n",
       "17518  0.172  0.110  0.033  ...  0.102  0.585  0.160  0.258  0.520  0.148   \n",
       "17519  0.237  0.076  0.030  ...  0.121  0.526  0.188  0.235  0.554  0.161   \n",
       "\n",
       "        h165   h166   h167   h168  \n",
       "0      0.209  0.151  0.684  0.105  \n",
       "1      0.230  0.165  0.536  0.087  \n",
       "2      0.187  0.387  0.377  0.050  \n",
       "3      0.109  0.082  0.387  0.045  \n",
       "4      0.168  0.051  0.645  0.061  \n",
       "...      ...    ...    ...    ...  \n",
       "17515  0.308  0.190  1.351  0.095  \n",
       "17516  0.269  0.487  1.954  0.107  \n",
       "17517  0.269  0.147  1.939  0.128  \n",
       "17518  0.182  0.264  1.366  0.056  \n",
       "17519  0.125  0.152  0.472  0.024  \n",
       "\n",
       "[17520 rows x 170 columns]"
      ]
     },
     "execution_count": 7,
     "metadata": {},
     "output_type": "execute_result"
    }
   ],
   "source": [
    "smart_meter_data"
   ]
  },
  {
   "cell_type": "code",
   "execution_count": 8,
   "metadata": {},
   "outputs": [
    {
     "data": {
      "text/plain": [
       "array([[0.219    , 0.241    , 0.191    , ..., 0.402    , 0.491    ,\n",
       "        0.452    ],\n",
       "       [0.006    , 0.017    , 0.059    , ..., 0.015    , 0.027    ,\n",
       "        0.006    ],\n",
       "       [0.093    , 0.068    , 0.078    , ..., 0.055    , 0.066    ,\n",
       "        0.057    ],\n",
       "       ...,\n",
       "       [0.151    , 0.165    , 0.387    , ..., 0.147    , 0.264    ,\n",
       "        0.152    ],\n",
       "       [0.684    , 0.536    , 0.377    , ..., 1.939    , 1.3660001,\n",
       "        0.472    ],\n",
       "       [0.105    , 0.087    , 0.05     , ..., 0.128    , 0.056    ,\n",
       "        0.024    ]])"
      ]
     },
     "execution_count": 8,
     "metadata": {},
     "output_type": "execute_result"
    }
   ],
   "source": [
    "# electricity cutomers are made to fit a 'profile class' which is used in building settlement codes\n",
    "# all of these customers would currently be profile class 02 - domestic standard rate (e.g. not economy7 etc)\n",
    "\n",
    "# https://data.ukedc.rl.ac.uk/browse/edc/efficiency/residential/LoadProfile/Load_Profiles.pdf\n",
    "\n",
    "# here we do some simple clustering to ascertain whether further divisions of the profile class might be beneficial\n",
    "# in the future\n",
    "X = smart_meter_data.iloc[:,2:].values\n",
    "Xt = X.transpose()\n",
    "print(Xt)\n",
    "\n",
    "distortions = []\n",
    "for i in range(1, 12):\n",
    "    km = KMeans(n_clusters=i, init='random', n_init=10, max_iter=300, tol=1e-04, random_state=0)\n",
    "    km.fit(Xt)\n",
    "    distortions.append(km.inertia_)\n",
    "\n",
    "# plot\n",
    "plt.plot(range(1, 12), distortions, marker='o')\n",
    "plt.xlabel('Number of clusters')\n",
    "plt.ylabel('Distortion')\n",
    "plt.show()"
   ]
  },
  {
   "cell_type": "code",
   "execution_count": 9,
   "metadata": {},
   "outputs": [
    {
     "data": {
      "image/png": "[encoded data removed]",
      "text/plain": [
       "<Figure size 432x288 with 1 Axes>"
      ]
     },
     "metadata": {
      "needs_background": "light"
     },
     "output_type": "display_data"
    }
   ],
   "source": []
  },
  {
   "cell_type": "code",
   "execution_count": 11,
   "metadata": {},
   "outputs": [
    {
     "data": {
      "text/plain": [
       "array([2, 3, 3, 2, 2, 2, 3, 3, 2, 2, 4, 3, 3, 4, 3, 3, 2, 2, 3, 3, 4, 3,\n",
       "       3, 4, 2, 2, 2, 0, 3, 2, 2, 2, 3, 3, 2, 3, 4, 2, 2, 3, 4, 0, 0, 4,\n",
       "       2, 2, 4, 0, 4, 2, 4, 3, 0, 3, 0, 2, 3, 3, 2, 3, 2, 2, 4, 4, 3, 3,\n",
       "       2, 3, 4, 2, 4, 2, 2, 3, 4, 3, 2, 2, 2, 3, 0, 0, 2, 5, 3, 2, 0, 3,\n",
       "       4, 0, 3, 2, 2, 4, 3, 2, 3, 3, 2, 2, 2, 3, 2, 2, 2, 5, 4, 3, 3, 0,\n",
       "       2, 3, 2, 3, 3, 0, 4, 3, 2, 2, 3, 4, 3, 2, 3, 4, 3, 3, 2, 2, 1, 2,\n",
       "       3, 2, 3, 3, 3, 4, 2, 2, 2, 3, 3, 3, 4, 2, 2, 3, 3, 2, 3, 3, 2, 3,\n",
       "       4, 3, 3, 3, 2, 2, 0, 2, 2, 2, 2, 3, 5, 3])"
      ]
     },
     "execution_count": 11,
     "metadata": {},
     "output_type": "execute_result"
    }
   ],
   "source": [
    "km = KMeans(n_clusters=6, init='random', n_init=10, max_iter=300, tol=1e-04, random_state=0)\n",
    "y_km = km.fit_predict(Xt)\n",
    "y_km"
   ]
  },
  {
   "cell_type": "code",
   "execution_count": 14,
   "metadata": {},
   "outputs": [
    {
     "data": {
      "text/plain": [
       "{0: 13, 1: 1, 2: 64, 3: 63, 4: 24, 5: 3}"
      ]
     },
     "execution_count": 14,
     "metadata": {},
     "output_type": "execute_result"
    }
   ],
   "source": [
    "# how many in each cluster? are they true clusters or outliers?\n",
    "unique, counts = np.unique(y_km, return_counts=True)\n",
    "dict(zip(unique, counts))"
   ]
  },
  {
   "cell_type": "code",
   "execution_count": null,
   "metadata": {},
   "outputs": [],
   "source": []
  },
  {
   "cell_type": "code",
   "execution_count": null,
   "metadata": {},
   "outputs": [],
   "source": []
  },
  {
   "cell_type": "code",
   "execution_count": null,
   "metadata": {},
   "outputs": [],
   "source": []
  },
  {
   "cell_type": "code",
   "execution_count": null,
   "metadata": {},
   "outputs": [],
   "source": []
  },
  {
   "cell_type": "code",
   "execution_count": null,
   "metadata": {},
   "outputs": [],
   "source": [
    "smart_meter_data"
   ]
  },
  {
   "cell_type": "code",
   "execution_count": null,
   "metadata": {},
   "outputs": [],
   "source": [
    "smart_meter_data.dtypes"
   ]
  },
  {
   "cell_type": "code",
   "execution_count": null,
   "metadata": {},
   "outputs": [],
   "source": [
    "sdate  = np.min(smart_meter_data['Date'])\n",
    "edate  = np.max(smart_meter_data['Date'])\n",
    "dts = list(set(pd.date_range(sdate,edate-timedelta(days=1),freq='d')))\n",
    "print(sdate, edate, len(dts))"
   ]
  },
  {
   "cell_type": "code",
   "execution_count": null,
   "metadata": {},
   "outputs": [],
   "source": [
    "smart_meter_data.head(20)"
   ]
  },
  {
   "cell_type": "code",
   "execution_count": null,
   "metadata": {},
   "outputs": [],
   "source": []
  },
  {
   "cell_type": "code",
   "execution_count": null,
   "metadata": {},
   "outputs": [],
   "source": [
    "# check all days have 48 (HH) reads\n",
    "date_counts = smart_meter_data['Date'].value_counts()\n",
    "#date_counts.plot(kind='bar')\n",
    "date_counts.plot()"
   ]
  },
  {
   "cell_type": "code",
   "execution_count": null,
   "metadata": {},
   "outputs": [],
   "source": [
    "min_pwr  = np.min(smart_meter_data['KWH/hh (per half hour) '])\n",
    "max_pwr  = np.max(smart_meter_data['KWH/hh (per half hour) '])\n",
    "\n",
    "print(min_pwr, max_pwr)"
   ]
  },
  {
   "cell_type": "code",
   "execution_count": null,
   "metadata": {},
   "outputs": [],
   "source": [
    "smart_meter_data.head(10)"
   ]
  },
  {
   "cell_type": "code",
   "execution_count": null,
   "metadata": {},
   "outputs": [],
   "source": [
    "day = smart_meter_data[smart_meter_data['Date'] == '2013-09-17']\n",
    "day.shape"
   ]
  },
  {
   "cell_type": "code",
   "execution_count": null,
   "metadata": {},
   "outputs": [],
   "source": [
    "day.head(len(day))"
   ]
  },
  {
   "cell_type": "code",
   "execution_count": null,
   "metadata": {},
   "outputs": [],
   "source": [
    "# show the days profile\n",
    "print('max = ', np.min(day['KWH/hh (per half hour) ']))\n",
    "print('min = ', np.max(day['KWH/hh (per half hour) ']))\n",
    "\n",
    "plt.plot(day['DateTime'], day['KWH/hh (per half hour) '])\n",
    "\n",
    "\n",
    "#yticks = np.arange(0, 10, 2)\n",
    "\n",
    "#plt.ylabel('house 1 demand')\n",
    "plt.ylabel('Demand kW')\n",
    "plt.xlabel('Time of day')\n",
    "plt.xticks(rotation = 45)\n",
    "plt.show()"
   ]
  },
  {
   "cell_type": "code",
   "execution_count": null,
   "metadata": {},
   "outputs": [],
   "source": [
    "#smart_meter_data.to_csv(dirpath+'/all meters.csv')"
   ]
  },
  {
   "cell_type": "code",
   "execution_count": null,
   "metadata": {},
   "outputs": [],
   "source": [
    "# weather\n",
    "weather_data = pd.read_csv(dirpath+'/GBR_London.Gatwick.037760_IWEC_copy.epw', sep='\\t', \n",
    "                           usecols=['year', 'month', 'day', 'hour', 'minute', \n",
    "                                    'Global Horizontal Radiation', 'Total Sky Cover'],\n",
    "                                    low_memory=False)\n",
    "\n",
    "weather_data.head(10)"
   ]
  },
  {
   "cell_type": "code",
   "execution_count": null,
   "metadata": {},
   "outputs": [],
   "source": [
    "# weather data is hourly but smart meter data is half-hourly\n",
    "# simply duplicate to half-hourly\n",
    "modified_weather_data = pd.DataFrame(columns=['DateTime', 'Date', 'Global Horizontal Radiation', 'Total Sky Cover'])\n",
    "\n",
    "for i in trange(len(weather_data)):\n",
    "    \n",
    "    # ignore the weather data year and match to demand file which is 2013\n",
    "    new_date = '2013-' + str(weather_data.loc[i,'month']) + '-' + str(weather_data.loc[i,'day'])\n",
    "    \n",
    "    # weather data uses hours 1 to 24, we want 0-23, and produce on-hour and half-hour timings\n",
    "    on_hr = new_date + ' ' + str(weather_data.loc[i,'hour']-1) + ':00:00'\n",
    "    on_hh = new_date + ' ' + str(weather_data.loc[i,'hour']-1) + ':30:00'\n",
    "    \n",
    "    # convert to datetimes\n",
    "    on_hr = datetime.strptime(on_hr, '%Y-%m-%d %H:%M:%S')\n",
    "    on_hh = datetime.strptime(on_hh, '%Y-%m-%d %H:%M:%S')\n",
    "    new_date = datetime.strptime(new_date, '%Y-%m-%d')\n",
    "    \n",
    "    ghr = weather_data.loc[i,'Global Horizontal Radiation'] # Wh/m2\n",
    "    tsc = weather_data.loc[i,'Total Sky Cover'] # 10ths of sky cover, e.g. 2 => 2/10ths cloud\n",
    "    \n",
    "    modified_weather_data = modified_weather_data.append({'DateTime': on_hr, 'Date': new_date, 'Global Horizontal Radiation': ghr, 'Total Sky Cover': tsc}, ignore_index=True)\n",
    "    modified_weather_data = modified_weather_data.append({'DateTime': on_hh, 'Date': new_date, 'Global Horizontal Radiation': ghr, 'Total Sky Cover': tsc}, ignore_index=True)\n",
    "    "
   ]
  },
  {
   "cell_type": "code",
   "execution_count": null,
   "metadata": {},
   "outputs": [],
   "source": [
    "modified_weather_data.head(30)"
   ]
  },
  {
   "cell_type": "code",
   "execution_count": null,
   "metadata": {},
   "outputs": [],
   "source": []
  },
  {
   "cell_type": "code",
   "execution_count": null,
   "metadata": {},
   "outputs": [],
   "source": []
  },
  {
   "cell_type": "code",
   "execution_count": null,
   "metadata": {},
   "outputs": [],
   "source": [
    "modified_weather_data['Global Horizontal Radiation'].value_counts()"
   ]
  },
  {
   "cell_type": "markdown",
   "metadata": {},
   "source": [
    "Solar PV class"
   ]
  },
  {
   "cell_type": "code",
   "execution_count": null,
   "metadata": {},
   "outputs": [],
   "source": [
    "from IPython.display import Image\n",
    "dirpath = r'C:\\Users\\joeba\\OneDrive\\Documents\\ML\\smart grid'\n",
    "Image(dirpath + '/solar-pv.jpg') #, width=1000, height=800)"
   ]
  },
  {
   "cell_type": "code",
   "execution_count": null,
   "metadata": {},
   "outputs": [],
   "source": [
    "class SolarPV():\n",
    "    \n",
    "    def __init__(self, kWp, efficiency, performance_ratio):\n",
    "        self.kWp = kWp\n",
    "        self.efficiency = efficiency\n",
    "        self.performance_ratio = performance_ratio\n",
    "        \n",
    "    ### sort these functions out when get back to Hayling and have CAT notes\n",
    "    def output(self, ghi):\n",
    "        # ghi is in Wh/m2, so divide by 1000 to get kWh\n",
    "        op = 0.001 * ghi * self.kWp * self.efficiency * self.performance_ratio\n",
    "        return np.round(op, 3)\n",
    "    \n",
    "    ### sort these functions out when get back to Hayling and have CAT notes\n",
    "    def output2(self, ghi, tsc):\n",
    "        # account for cloudy sky\n",
    "        op = 0.001 * ghi * self.kWp * self.efficiency * self.performance_ratio * (1 -(tsc/10))\n",
    "        return np.round(op, 3)"
   ]
  },
  {
   "cell_type": "code",
   "execution_count": null,
   "metadata": {},
   "outputs": [],
   "source": [
    "pv = SolarPV(4.24, 0.3, 0.8)\n",
    "\n",
    "generated = []\n",
    "\n",
    "for i in trange(len(weather_data)):\n",
    "    generated.append(pv.output(modified_weather_data.loc[i, 'Global Horizontal Radiation']))\n",
    "    #generated.append(pv.output(modified_weather_data.loc[i, 'Global Horizontal Radiation'], modified_weather_data.loc[i, 'Total Sky Cover']))"
   ]
  },
  {
   "cell_type": "code",
   "execution_count": null,
   "metadata": {},
   "outputs": [],
   "source": [
    "len(generated)"
   ]
  },
  {
   "cell_type": "code",
   "execution_count": null,
   "metadata": {},
   "outputs": [],
   "source": [
    "generated"
   ]
  },
  {
   "cell_type": "code",
   "execution_count": null,
   "metadata": {},
   "outputs": [],
   "source": [
    "np.max(generated)"
   ]
  },
  {
   "cell_type": "code",
   "execution_count": null,
   "metadata": {},
   "outputs": [],
   "source": [
    "pv.output(1828)"
   ]
  },
  {
   "cell_type": "code",
   "execution_count": null,
   "metadata": {},
   "outputs": [],
   "source": []
  }
 ],
 "metadata": {
  "kernelspec": {
   "display_name": "Python 3",
   "language": "python",
   "name": "python3"
  },
  "language_info": {
   "codemirror_mode": {
    "name": "ipython",
    "version": 3
   },
   "file_extension": ".py",
   "mimetype": "text/x-python",
   "name": "python",
   "nbconvert_exporter": "python",
   "pygments_lexer": "ipython3",
   "version": "3.7.4"
  }
 },
 "nbformat": 4,
 "nbformat_minor": 2
}
